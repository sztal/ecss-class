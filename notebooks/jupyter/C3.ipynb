{
 "cells": [
  {
   "cell_type": "markdown",
   "metadata": {},
   "source": [
    "# Overview of basic programming concepts"
   ]
  },
  {
   "cell_type": "markdown",
   "metadata": {},
   "source": [
    "## Before we start"
   ]
  },
  {
   "cell_type": "markdown",
   "metadata": {},
   "source": [
    "The notebook in the end of the day is just a list of cells (chunks) with either text or executable code and its output. To enter the input mode and type in code or text into a cell you need to simply click on the cell. However, you do not need to use the mouse. There are quite a few extremly useful shortcats which allow to navigate through the document using almost only keyboard (you will learn fast that it is what you want to do most of the time). \n",
    "\n",
    "First, you need to remember that there are two modes: input and navigate mode. While the former is quite obvious because it is used to type, the latter allows to move between cells. In navigation mode you can move between cells using arrow keys. To enter the input mode press `enter`, and you will be able to type in something. On the other hand you can leave the \n",
    "\n",
    "However, before entering the cell it is good to know whether you what you will write inside, whether it will be code or text. Therefore, press `M` to write plain text and `R` to write raw code. \n",
    "\n",
    "To execute the cell press `shift + enter` or `ctrl + enter`. The difference between two shortcats is subtle. The former executes the code and moves to next cell, and the other command executes the code while staying in the same code cell.\n",
    "- use arrows up and down to navigate cells\n",
    "- use enter (return) to enter the input mode\n",
    "- use escape to leave input mode\n",
    "- use m when in navigation mode to \n",
    "- press double d to delete cell"
   ]
  },
  {
   "cell_type": "markdown",
   "metadata": {},
   "source": [
    "## More Resources\n",
    "\n",
    "More resources and tutorials can be found on the Google Colab's [main page](https://colab.research.google.com/notebooks/welcome.ipynb)."
   ]
  },
  {
   "cell_type": "markdown",
   "metadata": {},
   "source": [
    "## Loading notebooks directly from Github\n",
    "\n",
    "This is a useful thing and we will use it in the class. Here are some [instructions](https://colab.research.google.com/github/googlecolab/colabtools/blob/master/notebooks/colab-github-demo.ipynb#scrollTo=K-NVg7RjyeTk). Fear not if you do not understand! It will become clear and obviour soon enough and we will provide you with exact instructions/links everytime anyway."
   ]
  },
  {
   "cell_type": "markdown",
   "metadata": {},
   "source": [
    "# Basic programming concepts (in Python3)"
   ]
  },
  {
   "cell_type": "markdown",
   "metadata": {},
   "source": [
    "In a nutshell (and simplifying a bit) programming is an art of communicating with a machine that is super efficient in performing simple logical and arithmetical operations but beyond that extremely dumb. Hence, it is crucial to be **perfectly** explicit. Otherwise the machine will not understand, or even worse, misunderstand our intentions without telling us, which may lead to results which are seemingly ok but inherently wrong."
   ]
  },
  {
   "cell_type": "markdown",
   "metadata": {},
   "source": [
    "### Arithmetic operators"
   ]
  },
  {
   "cell_type": "markdown",
   "metadata": {},
   "source": [
    "The best way is to start by considering a computer just a big, fat calculator. Thus, we will start by introducing ourselves to basic arithmetic operations."
   ]
  },
  {
   "cell_type": "code",
   "execution_count": 19,
   "metadata": {},
   "outputs": [
    {
     "data": {
      "text/plain": [
       "10"
      ]
     },
     "execution_count": 19,
     "metadata": {},
     "output_type": "execute_result"
    }
   ],
   "source": [
    "## Addition\n",
    "3 + 7"
   ]
  },
  {
   "cell_type": "code",
   "execution_count": 20,
   "metadata": {},
   "outputs": [
    {
     "data": {
      "text/plain": [
       "3"
      ]
     },
     "execution_count": 20,
     "metadata": {},
     "output_type": "execute_result"
    }
   ],
   "source": [
    "## Subtraction\n",
    "10 - 7"
   ]
  },
  {
   "cell_type": "code",
   "execution_count": 21,
   "metadata": {},
   "outputs": [
    {
     "data": {
      "text/plain": [
       "110"
      ]
     },
     "execution_count": 21,
     "metadata": {},
     "output_type": "execute_result"
    }
   ],
   "source": [
    "## Multiplication\n",
    "10 * 11"
   ]
  },
  {
   "cell_type": "code",
   "execution_count": 22,
   "metadata": {},
   "outputs": [
    {
     "data": {
      "text/plain": [
       "2.3333333333333335"
      ]
     },
     "execution_count": 22,
     "metadata": {},
     "output_type": "execute_result"
    }
   ],
   "source": [
    "## Division\n",
    "7 / 3"
   ]
  },
  {
   "cell_type": "markdown",
   "metadata": {},
   "source": [
    "Let us now note that something important has just happend. What it is? Any ideas?"
   ]
  },
  {
   "cell_type": "markdown",
   "metadata": {},
   "source": [
    "."
   ]
  },
  {
   "cell_type": "markdown",
   "metadata": {},
   "source": [
    "."
   ]
  },
  {
   "cell_type": "markdown",
   "metadata": {},
   "source": [
    "."
   ]
  },
  {
   "cell_type": "markdown",
   "metadata": {},
   "source": [
    "We used two integers and we get a sort of weird long number with decimal expansion. Such a thing is called floating point number and it is a digital way to model real numbers from mathematics. It is inherently imperfect (as you can guess from the fact that it ends weirdly with $5$, while we know that the true answer is $2\\frac{1}{3}$)."
   ]
  },
  {
   "cell_type": "markdown",
   "metadata": {},
   "source": [
    "We will soon talk about issues like this one a little bit more."
   ]
  },
  {
   "cell_type": "markdown",
   "metadata": {},
   "source": [
    "Let us also note another weird behavior of division."
   ]
  },
  {
   "cell_type": "code",
   "execution_count": 23,
   "metadata": {},
   "outputs": [
    {
     "ename": "ZeroDivisionError",
     "evalue": "division by zero",
     "output_type": "error",
     "traceback": [
      "\u001b[0;31m---------------------------------------------------------------------------\u001b[0m",
      "\u001b[0;31mZeroDivisionError\u001b[0m                         Traceback (most recent call last)",
      "\u001b[0;32m<ipython-input-23-23c48f956d2f>\u001b[0m in \u001b[0;36m<module>\u001b[0;34m\u001b[0m\n\u001b[0;32m----> 1\u001b[0;31m \u001b[0;36m7\u001b[0m \u001b[0;34m/\u001b[0m \u001b[0;36m0\u001b[0m\u001b[0;34m\u001b[0m\u001b[0;34m\u001b[0m\u001b[0m\n\u001b[0m",
      "\u001b[0;31mZeroDivisionError\u001b[0m: division by zero"
     ]
    }
   ],
   "source": [
    "7 / 0 "
   ]
  },
  {
   "cell_type": "markdown",
   "metadata": {},
   "source": [
    "What happened? We just did something that is illegal in mathematics. And Python does not like it and will not allow it, so it \"threw an error\".\n",
    "\n",
    "Something like this will happen always when we do something that is illegal from the vantage point of the programming language and/or software libraries we are using.\n",
    "\n",
    "Notice that Python is kind enough to be quite explicit and tells what happened that made it angry. A message like this is called traceback. It shows the error but also tries to pinpoint exactly the place in the code where the error happends. The one we see here is very simple, but in real-world settings tracebacks can be quite complicated and intimidating at first. However, the best way to approach them is just to be calm and read carefully through them.\n",
    "\n",
    "We will see some more advanced examples later on."
   ]
  },
  {
   "cell_type": "markdown",
   "metadata": {},
   "source": [
    "---"
   ]
  },
  {
   "cell_type": "markdown",
   "metadata": {},
   "source": [
    "There are also some more esoteric arithmetic operators."
   ]
  },
  {
   "cell_type": "code",
   "execution_count": 24,
   "metadata": {},
   "outputs": [
    {
     "data": {
      "text/plain": [
       "3"
      ]
     },
     "execution_count": 24,
     "metadata": {},
     "output_type": "execute_result"
    }
   ],
   "source": [
    "## Integer division\n",
    "13 // 4"
   ]
  },
  {
   "cell_type": "code",
   "execution_count": 25,
   "metadata": {},
   "outputs": [
    {
     "data": {
      "text/plain": [
       "1"
      ]
     },
     "execution_count": 25,
     "metadata": {},
     "output_type": "execute_result"
    }
   ],
   "source": [
    "## Modulo / modulus operator (division remainder)\n",
    "13 % 4"
   ]
  },
  {
   "cell_type": "markdown",
   "metadata": {},
   "source": [
    "Complex expressions are read from left to right and the standard prevalence of operations we know from school is used. We can also use round braces to modify order of operations."
   ]
  },
  {
   "cell_type": "code",
   "execution_count": 26,
   "metadata": {},
   "outputs": [
    {
     "data": {
      "text/plain": [
       "10"
      ]
     },
     "execution_count": 26,
     "metadata": {},
     "output_type": "execute_result"
    },
    {
     "data": {
      "text/plain": [
       "14"
      ]
     },
     "execution_count": 26,
     "metadata": {},
     "output_type": "execute_result"
    }
   ],
   "source": [
    "2*3 + 4    ## 10\n",
    "2*(3 + 4)  ## 14"
   ]
  },
  {
   "cell_type": "markdown",
   "metadata": {},
   "source": [
    "Of course we can also compare two values, which brings us to the realm of logical operators."
   ]
  },
  {
   "cell_type": "code",
   "execution_count": 34,
   "metadata": {},
   "outputs": [
    {
     "data": {
      "text/plain": [
       "False"
      ]
     },
     "execution_count": 34,
     "metadata": {},
     "output_type": "execute_result"
    },
    {
     "data": {
      "text/plain": [
       "True"
      ]
     },
     "execution_count": 34,
     "metadata": {},
     "output_type": "execute_result"
    }
   ],
   "source": [
    "## Note that we use a double 'equal' sign\n",
    "2 + 2 == 5\n",
    "2 + 2 == 4"
   ]
  },
  {
   "cell_type": "markdown",
   "metadata": {},
   "source": [
    "### Logical operators"
   ]
  },
  {
   "cell_type": "markdown",
   "metadata": {},
   "source": [
    "There are (of course) two basic, primitive logical values: `True` and `False`."
   ]
  },
  {
   "cell_type": "code",
   "execution_count": 27,
   "metadata": {},
   "outputs": [
    {
     "data": {
      "text/plain": [
       "True"
      ]
     },
     "execution_count": 27,
     "metadata": {},
     "output_type": "execute_result"
    },
    {
     "data": {
      "text/plain": [
       "False"
      ]
     },
     "execution_count": 27,
     "metadata": {},
     "output_type": "execute_result"
    }
   ],
   "source": [
    "True\n",
    "False"
   ]
  },
  {
   "cell_type": "markdown",
   "metadata": {},
   "source": [
    "And using them we can express arbitrary logical operations."
   ]
  },
  {
   "cell_type": "code",
   "execution_count": null,
   "metadata": {},
   "outputs": [],
   "source": [
    "## QUESTION: what are the results of the following operations?\n",
    "\n",
    "## Unary operator: negation\n",
    "not True\n",
    "not False\n",
    "\n",
    "## Binary operators: \n",
    "## conjunction (logical and) and disjunction (logical or)\n",
    "True and True\n",
    "True and False\n",
    "False and True\n",
    "False and True\n",
    "\n",
    "True or True\n",
    "True or False\n",
    "False or True\n",
    "False or False"
   ]
  },
  {
   "cell_type": "markdown",
   "metadata": {},
   "source": [
    "So far so good, but what about other basic binary operators we know (right?) from our logic classes?\n",
    "\n",
    "Usually there are at least two more:\n",
    "\n",
    "* Implication: $p \\Rightarrow q$\n",
    "* Equivalence: $p \\Leftrightarrow q$"
   ]
  },
  {
   "cell_type": "markdown",
   "metadata": {},
   "source": [
    "This is a good moment to briefly introduce the concept of variables (we will talk more about it soon).\n",
    "What we would like to do now, is to assign logical values (`True` or `False`) to two variables (`p` and `q`) and build logical expressions using only the operators we introduced so far representing implication and equivalence."
   ]
  },
  {
   "cell_type": "code",
   "execution_count": 35,
   "metadata": {},
   "outputs": [],
   "source": [
    "## Assigning values to names (variables)\n",
    "p = True\n",
    "q = True\n",
    "## Note that we use a single 'equal' sign to assign to variables\n",
    "## Double 'equal' is used for comparisons\n",
    "\n",
    "## Simple as that :)"
   ]
  },
  {
   "cell_type": "code",
   "execution_count": null,
   "metadata": {},
   "outputs": [],
   "source": [
    "## NOTE: variables defined in one chunk can be accessed in another one\n",
    "p"
   ]
  },
  {
   "cell_type": "code",
   "execution_count": 30,
   "metadata": {},
   "outputs": [],
   "source": [
    "## EXCERCISE: define implication"
   ]
  },
  {
   "cell_type": "code",
   "execution_count": 31,
   "metadata": {},
   "outputs": [],
   "source": [
    "## EXCERCISE: define equivalence"
   ]
  },
  {
   "cell_type": "markdown",
   "metadata": {},
   "source": [
    "Sometimes people use also so `XOR` operator, which is exclusive or. Can you implement it in Python with basic logical operators?"
   ]
  },
  {
   "cell_type": "code",
   "execution_count": 33,
   "metadata": {},
   "outputs": [],
   "source": [
    "## EXCERCISE: define XOR"
   ]
  },
  {
   "cell_type": "markdown",
   "metadata": {},
   "source": [
    "### Primitive types"
   ]
  },
  {
   "cell_type": "markdown",
   "metadata": {},
   "source": [
    "We have already seen quite a few different types of values, namely integers (whole numbers), floating point (real) numbers and logical values. However, it would be nice if we could write something and compute on textual values, right? Fortunately we can."
   ]
  },
  {
   "cell_type": "code",
   "execution_count": 36,
   "metadata": {},
   "outputs": [
    {
     "data": {
      "text/plain": [
       "'Bob and Alice are two generic persons.'"
      ]
     },
     "execution_count": 36,
     "metadata": {},
     "output_type": "execute_result"
    }
   ],
   "source": [
    "\"Bob and Alice are two generic persons.\""
   ]
  },
  {
   "cell_type": "markdown",
   "metadata": {},
   "source": [
    "The thing above is a so-called **string** (abbreviated as `str` in Python)."
   ]
  },
  {
   "cell_type": "markdown",
   "metadata": {},
   "source": [
    "Summing up we have the following primitive types in Python (sorted by generality):\n",
    "\n",
    "1. Logical values (or booleans; called `bool` in Python)\n",
    "2. Integers (called `int` in Python)\n",
    "3. Floating point numbers (called `float` in Python)\n",
    "4. Strings (called `str` in Python)"
   ]
  },
  {
   "cell_type": "markdown",
   "metadata": {},
   "source": [
    "We have already seen that we have quite a lot of different operators that allow us to compute on numbers and booleans. It turnes out that we have also some basic operators for computing on strings."
   ]
  },
  {
   "cell_type": "code",
   "execution_count": 44,
   "metadata": {},
   "outputs": [
    {
     "data": {
      "text/plain": [
       "'TextMore text'"
      ]
     },
     "execution_count": 44,
     "metadata": {},
     "output_type": "execute_result"
    },
    {
     "data": {
      "text/plain": [
       "'TextTextTextText'"
      ]
     },
     "execution_count": 44,
     "metadata": {},
     "output_type": "execute_result"
    },
    {
     "ename": "TypeError",
     "evalue": "can't multiply sequence by non-int of type 'float'",
     "output_type": "error",
     "traceback": [
      "\u001b[0;31m---------------------------------------------------------------------------\u001b[0m",
      "\u001b[0;31mTypeError\u001b[0m                                 Traceback (most recent call last)",
      "\u001b[0;32m<ipython-input-44-864940e83b1d>\u001b[0m in \u001b[0;36m<module>\u001b[0;34m\u001b[0m\n\u001b[1;32m      8\u001b[0m \u001b[0;34m\u001b[0m\u001b[0m\n\u001b[1;32m      9\u001b[0m \u001b[0;31m## Does it always make sense to multiply a string?\u001b[0m\u001b[0;34m\u001b[0m\u001b[0;34m\u001b[0m\u001b[0;34m\u001b[0m\u001b[0m\n\u001b[0;32m---> 10\u001b[0;31m \u001b[0ms1\u001b[0m \u001b[0;34m*\u001b[0m \u001b[0;36m2.5\u001b[0m\u001b[0;34m\u001b[0m\u001b[0;34m\u001b[0m\u001b[0m\n\u001b[0m",
      "\u001b[0;31mTypeError\u001b[0m: can't multiply sequence by non-int of type 'float'"
     ]
    }
   ],
   "source": [
    "s1 = \"Text\"\n",
    "s2 = \"More text\"\n",
    "\n",
    "## Adding two strings concatenates them\n",
    "s1 + s2\n",
    "## Multiplying a string by an integer repeats it n times\n",
    "s1*4\n",
    "\n",
    "## Does it always make sense to multiply a string?\n",
    "s1 * 2.5"
   ]
  },
  {
   "cell_type": "code",
   "execution_count": 38,
   "metadata": {},
   "outputs": [
    {
     "data": {
      "text/plain": [
       "4"
      ]
     },
     "execution_count": 38,
     "metadata": {},
     "output_type": "execute_result"
    }
   ],
   "source": [
    "## We can also ask for the length of a string (number of individual characters)\n",
    "len(s1)"
   ]
  },
  {
   "cell_type": "markdown",
   "metadata": {},
   "source": [
    "There are many more tricks you can do with strings, but we will not go further into that for now."
   ]
  },
  {
   "cell_type": "markdown",
   "metadata": {},
   "source": [
    "### Composite types and collections"
   ]
  },
  {
   "cell_type": "markdown",
   "metadata": {},
   "source": [
    "Now we can do something with booleans, numbers and strings. That is fine, but it is still hard to express any non-trivial computation using only the basic stuff we have seen so far.\n",
    "\n",
    "For instance, let us imagine that we are provided we a simple list of numbers:\n",
    "\n",
    "* 3\n",
    "* 7\n",
    "* 5\n",
    "* 11\n",
    "* 14\n",
    "* 3\n",
    "* -5\n",
    "\n",
    "and we would like to compute their sum. Using only the basic operators and primitive types it would take a lof typing and would defy any advantage of using a computer in the first place!"
   ]
  },
  {
   "cell_type": "code",
   "execution_count": 46,
   "metadata": {},
   "outputs": [
    {
     "data": {
      "text/plain": [
       "38"
      ]
     },
     "execution_count": 46,
     "metadata": {},
     "output_type": "execute_result"
    }
   ],
   "source": [
    "num1 = 3\n",
    "num2 = 7\n",
    "num3 = 5\n",
    "num4 = 11\n",
    "num5 = 14\n",
    "num6 = 3\n",
    "num7 = -5\n",
    "\n",
    "total = num1 + num2 + num3 + num4 + num5 + num6 + num7\n",
    "total"
   ]
  },
  {
   "cell_type": "markdown",
   "metadata": {},
   "source": [
    "That is stupid, right? Good news is that we have also more 'composite' types that allows us to arrange multiple objects into so-called **collections**."
   ]
  },
  {
   "cell_type": "markdown",
   "metadata": {},
   "source": [
    "Perhaps the most obvious and typical type of a collection is **list**. It also enables us to at least try to solve our problem in a more efficient manner."
   ]
  },
  {
   "cell_type": "code",
   "execution_count": 48,
   "metadata": {},
   "outputs": [],
   "source": [
    "## We can arrange multiple values (separated with commas) in a list\n",
    "numbers = [ 3, 7, 5, 11, 14, 3, -5 ]"
   ]
  },
  {
   "cell_type": "markdown",
   "metadata": {},
   "source": [
    "Ok, this is cool, but what to do with it? For starters we can try to access individual elements of a list."
   ]
  },
  {
   "cell_type": "code",
   "execution_count": 52,
   "metadata": {},
   "outputs": [
    {
     "data": {
      "text/plain": [
       "3"
      ]
     },
     "execution_count": 52,
     "metadata": {},
     "output_type": "execute_result"
    },
    {
     "data": {
      "text/plain": [
       "11"
      ]
     },
     "execution_count": 52,
     "metadata": {},
     "output_type": "execute_result"
    },
    {
     "data": {
      "text/plain": [
       "-5"
      ]
     },
     "execution_count": 52,
     "metadata": {},
     "output_type": "execute_result"
    },
    {
     "data": {
      "text/plain": [
       "14"
      ]
     },
     "execution_count": 52,
     "metadata": {},
     "output_type": "execute_result"
    }
   ],
   "source": [
    "## NOTE: in Python we start counting from 0 !!!!\n",
    "numbers[0]   # First element\n",
    "numbers[3]   # 3+1 = 4th element\n",
    "\n",
    "## We can also count starting from the end\n",
    "numbers[-1]  # The last element\n",
    "numbers[-3]  # The third last element\n",
    "\n",
    "## QUESTION: \n",
    "## why don't we start backward counting from 0 ??\n",
    "## What will `numbers[-0]` give??"
   ]
  },
  {
   "cell_type": "code",
   "execution_count": 53,
   "metadata": {},
   "outputs": [
    {
     "data": {
      "text/plain": [
       "[5, 11, 14]"
      ]
     },
     "execution_count": 53,
     "metadata": {},
     "output_type": "execute_result"
    },
    {
     "data": {
      "text/plain": [
       "[3, 7, 5, 11, 14]"
      ]
     },
     "execution_count": 53,
     "metadata": {},
     "output_type": "execute_result"
    },
    {
     "data": {
      "text/plain": [
       "[11, 14, 3, -5]"
      ]
     },
     "execution_count": 53,
     "metadata": {},
     "output_type": "execute_result"
    },
    {
     "data": {
      "text/plain": [
       "[14, 3, -5]"
      ]
     },
     "execution_count": 53,
     "metadata": {},
     "output_type": "execute_result"
    }
   ],
   "source": [
    "## We can also access slices of lists\n",
    "numbers[2:5] ## Which elements does this give?\n",
    "\n",
    "## From the beggining up to some element\n",
    "numbers[:5]\n",
    "## From an element to the end\n",
    "numbers[3:]\n",
    "\n",
    "## We can also use negative indexes\n",
    "numbers[-3:]"
   ]
  },
  {
   "cell_type": "markdown",
   "metadata": {},
   "source": [
    "Ok, but what happened under the hood? What did Python do to actually compute the sum?\n",
    "Moreover, it would be quite stupid if the only advantage we could gain from a list would be keeping our items arranged and applying some predefined built-in commands. We want to be able to express arbitrary computations on multiple values in a consice manner.\n",
    "\n",
    "This leads us to the fundamental notion of a loop."
   ]
  },
  {
   "cell_type": "code",
   "execution_count": 57,
   "metadata": {},
   "outputs": [
    {
     "data": {
      "text/plain": [
       "38"
      ]
     },
     "execution_count": 57,
     "metadata": {},
     "output_type": "execute_result"
    },
    {
     "data": {
      "text/plain": [
       "True"
      ]
     },
     "execution_count": 57,
     "metadata": {},
     "output_type": "execute_result"
    }
   ],
   "source": [
    "## This is what `sum` does behind the scenes\n",
    "total = 0\n",
    "for number in numbers:\n",
    "    total = total + number\n",
    "    # We can write the assignment in an even more concise manner\n",
    "    # total += number  ## Notice the special increment-assignment operator `+=`\n",
    "\n",
    "total\n",
    "total == sum(numbers)\n",
    "\n",
    "## What happened here?!"
   ]
  },
  {
   "cell_type": "code",
   "execution_count": null,
   "metadata": {},
   "outputs": [],
   "source": []
  }
 ],
 "metadata": {
  "kernelspec": {
   "display_name": "Python 3",
   "language": "python",
   "name": "python3"
  },
  "language_info": {
   "codemirror_mode": {
    "name": "ipython",
    "version": 3
   },
   "file_extension": ".py",
   "mimetype": "text/x-python",
   "name": "python",
   "nbconvert_exporter": "python",
   "pygments_lexer": "ipython3",
   "version": "3.7.3"
  }
 },
 "nbformat": 4,
 "nbformat_minor": 4
}
