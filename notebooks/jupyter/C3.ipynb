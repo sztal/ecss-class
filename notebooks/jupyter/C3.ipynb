{
 "cells": [
  {
   "cell_type": "markdown",
   "metadata": {},
   "source": [
    "# Overview of basic programming concepts"
   ]
  },
  {
   "cell_type": "markdown",
   "metadata": {},
   "source": [
    "## Before we start"
   ]
  },
  {
   "cell_type": "markdown",
   "metadata": {},
   "source": [
    "The notebook in the end of the day is just a list of cells (chunks) with either text or executable code and its output. To enter the input mode and type in code or text into a cell you need to simply click on the cell. However, you do not need to use the mouse. There are quite a few extremly useful shortcats which allow to navigate through the document using almost only keyboard (you will learn fast that it is what you want to do most of the time). \n",
    "\n",
    "First, you need to remember that there are two modes: input and navigate mode. While the former is quite obvious because it is used to type, the latter allows to move between cells. In navigation mode you can move between cells using arrow keys. To enter the input mode press `enter`, and you will be able to type in something. On the other hand you can leave the \n",
    "\n",
    "However, before entering the cell it is good to know whether you what you will write inside, whether it will be code or text. Therefore, press `M` to write plain text and `R` to write raw code. \n",
    "\n",
    "To execute the cell press `shift + enter` or `ctrl + enter`. The difference between two shortcats is subtle. The former executes the code and moves to next cell, and the other command executes the code while staying in the same code cell.\n",
    "- use arrows up and down to navigate cells\n",
    "- use enter (return) to enter the input mode\n",
    "- use escape to leave input mode\n",
    "- use m when in navigation mode to \n",
    "- press double d to delete cell"
   ]
  },
  {
   "cell_type": "markdown",
   "metadata": {},
   "source": [
    "## More Resources\n",
    "\n",
    "More resources and tutorials can be found on the Google Colab's [main page](https://colab.research.google.com/notebooks/welcome.ipynb)."
   ]
  },
  {
   "cell_type": "code",
   "execution_count": null,
   "metadata": {},
   "outputs": [],
   "source": []
  }
 ],
 "metadata": {
  "kernelspec": {
   "display_name": "Python 3",
   "language": "python",
   "name": "python3"
  },
  "language_info": {
   "codemirror_mode": {
    "name": "ipython",
    "version": 3
   },
   "file_extension": ".py",
   "mimetype": "text/x-python",
   "name": "python",
   "nbconvert_exporter": "python",
   "pygments_lexer": "ipython3",
   "version": "3.7.3"
  }
 },
 "nbformat": 4,
 "nbformat_minor": 4
}
