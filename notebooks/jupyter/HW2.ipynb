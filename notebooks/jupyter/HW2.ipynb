{
 "cells": [
  {
   "cell_type": "markdown",
   "metadata": {},
   "source": [
    "# Homework (deadline 10.01.2020 23:59:59)\n",
    "Write solutions for the homework exercises in this notebook. Once the work is done download the notebook file (`File > Download .ipynb`) rename it properly so it follows a template `HW2_<SURNAME>_<NAME>.ipynb` and send the file to us. Please, for exercise 1 also attach a JSON line file with the scrapped data. Use one (or preferably both) of the following e-mails:\n",
    "\n",
    "* <stalaga@uw.edu.pl>\n",
    "* <m.biesaga@uw.edu.pl>\n",
    "\n",
    "Remember that you can contact us if you have any problems. You can describe your problems in the `hw1` channel or in private messages to us on Slack. You can also write normal e-mails. Moreover, you can also visit us in the ISS on the fourth floor (room 415). Usually, at least one of us is there after 11/12 for at least a few hours. Although it is best to set up a meeting earlier via e-mail or a private message."
   ]
  },
  {
   "cell_type": "markdown",
   "metadata": {},
   "source": [
    "## HW2 | Exercise 1\n",
    "You all should be able to get the file `links.txt`  our [Google Drive](https://drive.google.com/open?id=1v7jpE82eSJy3XPfvaIAteh6N_MnSu4M7). It contains ten links from the Russia Today website ([www.rt.com](https://www.rt.com)). Your task is to:\n",
    "\n",
    "* Read `links.txt` to Python (Google Colab)\n",
    "* Scrap the articles from the given links\n",
    "* Write out the results into `HW2_<SURNAME>_<NAME>.jl`\n",
    "\n",
    "From every website you should get the following information:\n",
    "\n",
    "* Title of the article\n",
    "* Author of the text (if present, if not the value should be None)\n",
    "* Lead of the article (summary)\n",
    "* Date of publication\n",
    "* Text of the article\n",
    "\n",
    "*Reminder:* A JSON line file contains multiple JSONs. As the name suggests each line contains one. Therefore, it looks more or less like in the example below:\n",
    "\n",
    "```python\n",
    "{title: \"Why are Namedays better than Birthdays?\", author: \"M. Biesaga\", date: \"06.12.2019\", lead: \"Scientists from one of the best Universities in the U.S. proved that the discussion about birthdays and namedays is finally over.\"}\n",
    "{title: \"Why is psychology better than sociology\", author: None, date: \"06.12.2019\", lead: \"A fight between psychologists and sociologists.\"}\n",
    "```"
   ]
  }
 ],
 "metadata": {
  "kernelspec": {
   "display_name": "Python 3",
   "language": "python",
   "name": "python3"
  },
  "language_info": {
   "codemirror_mode": {
    "name": "ipython",
    "version": 3
   },
   "file_extension": ".py",
   "mimetype": "text/x-python",
   "name": "python",
   "nbconvert_exporter": "python",
   "pygments_lexer": "ipython3",
   "version": "3.7.5"
  }
 },
 "nbformat": 4,
 "nbformat_minor": 4
}
