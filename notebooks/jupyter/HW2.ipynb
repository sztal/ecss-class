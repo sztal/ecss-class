{
 "cells": [
  {
   "cell_type": "markdown",
   "metadata": {},
   "source": [
    "# Homework (deadline 10.01.2020 23:59:59)\n",
    "Write solutions for the homework exercises in this notebook. Once the work is done download the notebook file (`File > Download .ipynb`) rename it properly so it follows a template `HW2_<SURNAME>_<NAME>.ipynb` and send the file to us. Please, for the exercise 1 also attach json line file with the scarpped data. Use one (or preferably both) of the following e-mails:\n",
    "\n",
    "* <stalaga@uw.edu.pl>\n",
    "* <m.biesaga@uw.edu.pl>\n",
    "\n",
    "Remember that you can contact us if you have any problems. You can describe your problems in the `hw1` channel or in private messages to us on Slack. You can also write normal e-mails. Moreover, you can also visit us in the ISS on the fourth floor (room 415). Usually, at least one of us is there after 11/12 for at least a few hours. Although it is best to set up a meeting earlier via e-mail or a private message.\n",
    "\n",
    "You all should got the file links.txt. It contains ten links from Russia Today. Your task is to read this file, scrap the links and write the results to json line file. "
   ]
  },
  {
   "cell_type": "markdown",
   "metadata": {},
   "source": [
    "## HW2 | Exercise 1\n",
    "You all should got the file `links.txt` via email, if not it is avaliable on our [Google Drive](https://drive.google.com/open?id=1v7jpE82eSJy3XPfvaIAteh6N_MnSu4M7). It contains ten links from Russia Today website ([www.rt.com](https://www.rt.com)). Your task is to:\n",
    "\n",
    "* Read `links.txt` to Python (Google Colab)\n",
    "* Scrap the articles from the given links\n",
    "* Write out the results into `HW2_<SURNAME>_<NAME>.jl`\n",
    "\n",
    "From every website you should get the following information:\n",
    "\n",
    "* Title of the article\n",
    "* Author of the text (if present, if not the value should be None)\n",
    "* Lead of the article (summary)\n",
    "* Date of publication\n",
    "* Text of the article\n",
    "\n",
    "*Reminder:* A json line file is actually a list of mappings, every single line contains pairs key-value. Therefore it should look something like this:\n",
    "\n",
    "```python\n",
    "HW2_Biesaga_Mikolaj = [\n",
    "\n",
    "    {title: \"Why Namesdays are better than Birthdays\",\n",
    "     author: \"M. Biesaga\",\n",
    "     date: \"06.12.2019\",\n",
    "     lead: \"Scientists from one of the best Universities proved that the disscusion about birthdays and namesdays is finally over.\"},\n",
    "    {title: \"Why psychology is better than sociology\",\n",
    "     author: None,\n",
    "     date: \"06.12.2019\",\n",
    "     lead: \"A fight between psychologists and sociologists.\"}\n",
    "    \n",
    "]\n",
    "\n",
    "```"
   ]
  },
  {
   "cell_type": "code",
   "execution_count": null,
   "metadata": {},
   "outputs": [],
   "source": []
  }
 ],
 "metadata": {
  "kernelspec": {
   "display_name": "Python 3",
   "language": "python",
   "name": "python3"
  },
  "language_info": {
   "codemirror_mode": {
    "name": "ipython",
    "version": 3
   },
   "file_extension": ".py",
   "mimetype": "text/x-python",
   "name": "python",
   "nbconvert_exporter": "python",
   "pygments_lexer": "ipython3",
   "version": "3.7.3"
  }
 },
 "nbformat": 4,
 "nbformat_minor": 4
}
