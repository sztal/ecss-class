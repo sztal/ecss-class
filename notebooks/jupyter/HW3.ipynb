{
 "cells": [
  {
   "cell_type": "markdown",
   "metadata": {},
   "source": [
    "# Homework (deadline 31.01.2020 23:59:59)\n",
    "Write solutions for the homework exercises in this notebook. Once the work is done download the notebook file (`File > Download .ipynb`) rename it properly so it follows a template `HW3_<SURNAME>_<NAME>.ipynb` and send the file to us. Please, for exercise 1 also attach a JSON line file with the adequate data. Use one (or preferably both) of the following e-mails:\n",
    "\n",
    "* <stalaga@uw.edu.pl>\n",
    "* <m.biesaga@uw.edu.pl>\n",
    "\n",
    "Remember that you can contact us if you have any problems. You can describe your problems in the `hw3` channel or in private messages to us on Slack. You can also write normal e-mails. Moreover, you can also visit us in the ISS on the fourth floor (room 415). Usually, at least one of us is there after 11/12 for at least a few hours. Although it is best to set up a meeting earlier via e-mail or a private message."
   ]
  },
  {
   "cell_type": "markdown",
   "metadata": {},
   "source": [
    "## HW3 | Exercise 1\n",
    "You all should be able to download the file `climate.jl` from our [Google Drive](https://drive.google.com/drive/u/0/folders/10AOaZZuAAdUAI33GVSBTKOkfGqbCeROC). It is a JSON line file with over 9 thousand lines. In each line, you will find id, title, and lead of an article loosely related to climate. Therefore, each line looks similar to this one:\n",
    "```python\n",
    "{\"title\": \"An open China will foster a world-class business environment\",\n",
    " \"lead\": \"China is expanding market access for foreign enterprises and creating a world-class environment where businesses are assured a high-level of intellectual property rights (IPR) protection and equal access to opportunities.\",\n",
    " \"id\": \"227715390929_10156142338065930\"}\n",
    "\n",
    "```\n",
    "Your task is to:\n",
    "\n",
    "* Read `climate.jl` to Python\n",
    "* Compute sentiment using VADER for all leads and titles\n",
    "* Filter only this articles for which title is more positive than lead (use `pos` score to compare the positivity)\n",
    "* Write out only titles and ids from the selected articles to a json line file\n",
    "\n",
    "*Hint:* Your json line file should have 3079 lines."
   ]
  }
 ],
 "metadata": {
  "kernelspec": {
   "display_name": "Python 3",
   "language": "python",
   "name": "python3"
  },
  "language_info": {
   "codemirror_mode": {
    "name": "ipython",
    "version": 3
   },
   "file_extension": ".py",
   "mimetype": "text/x-python",
   "name": "python",
   "nbconvert_exporter": "python",
   "pygments_lexer": "ipython3",
   "version": "3.7.5"
  }
 },
 "nbformat": 4,
 "nbformat_minor": 4
}
