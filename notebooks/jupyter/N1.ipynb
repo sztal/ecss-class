{
 "cells": [
  {
   "cell_type": "markdown",
   "metadata": {},
   "source": [
    "# Overview of basic programming concepts"
   ]
  },
  {
   "cell_type": "markdown",
   "metadata": {},
   "source": [
    "## Before we start"
   ]
  },
  {
   "cell_type": "markdown",
   "metadata": {},
   "source": [
    "The notebook at the end of the day is just a list of cells (chunks) with either text or executable code and its output. To enter the input mode and type in code or text into a cell you need to simply click on the cell. However, you do not need to use the mouse. There are quite a few extremely useful shortcuts that allow navigating through the document using almost only the keyboard (you will learn fast that it is what you want to do most of the time). \n",
    "\n",
    "First, you need to remember that there are two modes: `input` and `navigate` mode. While the former is quite obvious because it is used to type, the latter allows moving between cells. In the navigate mode, you can move between cells using arrow keys. To enter the input mode press `enter`, and you will be able to type in something. On the other hand, you can leave the input mode without executing the cell by simply pressing `esc`.\n",
    "\n",
    "However, before entering the cell it is good to know what you will write inside, whether it will be code or text. Therefore, press `m` to write plain text and `y` to write the code (obviously you need to be in the navigate mode otherwise you will just type either m or r). However, the default input is code.\n",
    "\n",
    "To execute the cell press `shift + enter` or `ctrl + enter`. The difference between these two shortcuts is subtle. The former executes the code and moves to the next cell in the navigate mode, and the latter executes the code while staying in the same cell in the navigate mode. Bellow, there are a few useful tips on how to use Jupyter Notebook effectively:\n",
    "- use arrows `up` and `down` to navigate\n",
    "- use `enter` to enter the input mode\n",
    "- use `esc` to leave the input mode\n",
    "- use `m` when in the navigate mode to change the cell to text cell\n",
    "- use `y` when in the navigate mode to change the cell to code cell\n",
    "- use `a` when in the navigate mode to add a cell above the current cell\n",
    "- use `b` when in the navigate mode to add cell below the current cell\n",
    "- use `c` when in the navigate mode to copy the current cell\n",
    "- use `v` when in the navigate mode to paste the cell below the current cell\n",
    "- press `dd` (double d) when in the navigate mode to delete the current cell"
   ]
  },
  {
   "cell_type": "markdown",
   "metadata": {},
   "source": [
    "## More Resources\n",
    "\n",
    "More resources and tutorials can be found on Google Colab's [main page](https://colab.research.google.com/notebooks/welcome.ipynb)."
   ]
  },
  {
   "cell_type": "markdown",
   "metadata": {},
   "source": [
    "## Loading notebooks directly from Github\n",
    "\n",
    "This is a useful thing and we will use it in the class. Here are some [instructions](https://colab.research.google.com/github/googlecolab/colabtools/blob/master/notebooks/colab-github-demo.ipynb#scrollTo=K-NVg7RjyeTk). Fear not if you do not understand! It will become clear and obvious soon enough and we will provide you with exact instructions/links every time anyway."
   ]
  },
  {
   "cell_type": "markdown",
   "metadata": {},
   "source": [
    "# Basic programming concepts (in Python3)"
   ]
  },
  {
   "cell_type": "markdown",
   "metadata": {},
   "source": [
    "In a nutshell (and simplifying a bit) programming is an art of communicating with a machine that is super efficient in performing simple logical and arithmetical operations but beyond that extremely dumb. Hence, it is crucial to be **perfectly** explicit. Otherwise, the machine will not understand, or even worse, misunderstand our intentions without telling us, which may lead to results that are seemingly ok but inherently wrong."
   ]
  },
  {
   "cell_type": "markdown",
   "metadata": {},
   "source": [
    "### Arithmetic operators"
   ]
  },
  {
   "cell_type": "markdown",
   "metadata": {},
   "source": [
    "The best way is to start by considering a computer just a big, fat calculator. Thus, we will start by introducing ourselves to basic arithmetic operations."
   ]
  },
  {
   "cell_type": "code",
   "execution_count": null,
   "metadata": {},
   "outputs": [],
   "source": [
    "## Addition\n",
    "3 + 7"
   ]
  },
  {
   "cell_type": "code",
   "execution_count": null,
   "metadata": {},
   "outputs": [],
   "source": [
    "## Subtraction\n",
    "10 - 7"
   ]
  },
  {
   "cell_type": "code",
   "execution_count": null,
   "metadata": {},
   "outputs": [],
   "source": [
    "## Multiplication\n",
    "10 * 11"
   ]
  },
  {
   "cell_type": "code",
   "execution_count": null,
   "metadata": {},
   "outputs": [],
   "source": [
    "## Division\n",
    "7 / 3"
   ]
  },
  {
   "cell_type": "markdown",
   "metadata": {},
   "source": [
    "Let us now note that something important has just happend. What is it? Any ideas?"
   ]
  },
  {
   "cell_type": "markdown",
   "metadata": {},
   "source": [
    "We used two integers and we get a sort of weird long number with decimal expansion. Such a thing is called floating point number and it is a digital way to model real numbers from mathematics. It is inherently imperfect (as you can guess from the fact that it ends weirdly with $5$ (it may look differently on your machine), while we know that the true answer is $2\\frac{1}{3}$)."
   ]
  },
  {
   "cell_type": "markdown",
   "metadata": {},
   "source": [
    "We will soon talk about issues like this one a little bit more."
   ]
  },
  {
   "cell_type": "markdown",
   "metadata": {},
   "source": [
    "Let us also note another weird behavior of division."
   ]
  },
  {
   "cell_type": "code",
   "execution_count": null,
   "metadata": {},
   "outputs": [],
   "source": [
    "7 / 0 "
   ]
  },
  {
   "cell_type": "markdown",
   "metadata": {},
   "source": [
    "What happened? We just did something illegal in mathematics. And Python does not like it and will not allow it, so it \"threw an error\".\n",
    "\n",
    "Something like this will happen always when we do something illegal from the vantage point of the programming language and/or software libraries we are using.\n",
    "\n",
    "Notice that Python is kind enough to be quite explicit and tells us what happened that made it angry. A message like this is called a traceback. It shows the error but also tries to pinpoint exactly the place in the code where the error happened. The one we see here is very simple, but in real-world settings, tracebacks can be quite complicated and intimidating at first. However, the best way to approach them is just to be calm and read carefully through them.\n",
    "\n",
    "We will see some more advanced examples later on."
   ]
  },
  {
   "cell_type": "markdown",
   "metadata": {},
   "source": [
    "---"
   ]
  },
  {
   "cell_type": "markdown",
   "metadata": {},
   "source": [
    "It is also possible to compute powers and roots in Python."
   ]
  },
  {
   "cell_type": "code",
   "execution_count": null,
   "metadata": {},
   "outputs": [],
   "source": [
    "## Raising to a power\n",
    "2**4"
   ]
  },
  {
   "cell_type": "code",
   "execution_count": null,
   "metadata": {},
   "outputs": [],
   "source": [
    "## Square root\n",
    "4**(1/2)"
   ]
  },
  {
   "cell_type": "markdown",
   "metadata": {},
   "source": [
    "In general `**` operator allows to perform raising to any arbitrary power including fractional powers (roots) which is legal in mathematics. This may sometimes lead us to weird places..."
   ]
  },
  {
   "cell_type": "code",
   "execution_count": null,
   "metadata": {},
   "outputs": [],
   "source": [
    "(-4)**.5"
   ]
  },
  {
   "cell_type": "markdown",
   "metadata": {},
   "source": [
    "There are also some more esoteric arithmetic operators."
   ]
  },
  {
   "cell_type": "code",
   "execution_count": null,
   "metadata": {},
   "outputs": [],
   "source": [
    "## Integer division\n",
    "13 // 4"
   ]
  },
  {
   "cell_type": "code",
   "execution_count": null,
   "metadata": {},
   "outputs": [],
   "source": [
    "## Modulo / modulus operator (division remainder)\n",
    "13 % 4"
   ]
  },
  {
   "cell_type": "markdown",
   "metadata": {},
   "source": [
    "Complex expressions are read from left to right and the standard prevalence of operations we know from school is used. We can also use round braces to modify the order of operations."
   ]
  },
  {
   "cell_type": "code",
   "execution_count": null,
   "metadata": {},
   "outputs": [],
   "source": [
    "2*3 + 4    ## 10"
   ]
  },
  {
   "cell_type": "code",
   "execution_count": null,
   "metadata": {},
   "outputs": [],
   "source": [
    "2*(3 + 4)  ## 14"
   ]
  },
  {
   "cell_type": "markdown",
   "metadata": {},
   "source": [
    "Of course, we can also compare two values, which brings us to the realm of logical operators."
   ]
  },
  {
   "cell_type": "code",
   "execution_count": null,
   "metadata": {},
   "outputs": [],
   "source": [
    "## Note that we use a double 'equal' sign\n",
    "2 + 2 == 5"
   ]
  },
  {
   "cell_type": "code",
   "execution_count": null,
   "metadata": {},
   "outputs": [],
   "source": [
    "2 + 2 == 4"
   ]
  },
  {
   "cell_type": "code",
   "execution_count": null,
   "metadata": {},
   "outputs": [],
   "source": [
    "2 + 2 == 5"
   ]
  },
  {
   "cell_type": "markdown",
   "metadata": {},
   "source": [
    "### Logical operators"
   ]
  },
  {
   "cell_type": "markdown",
   "metadata": {},
   "source": [
    "There are (of course) two basic, primitive logical values: `True` and `False`."
   ]
  },
  {
   "cell_type": "code",
   "execution_count": null,
   "metadata": {},
   "outputs": [],
   "source": [
    "True"
   ]
  },
  {
   "cell_type": "code",
   "execution_count": null,
   "metadata": {},
   "outputs": [],
   "source": [
    "False"
   ]
  },
  {
   "cell_type": "markdown",
   "metadata": {},
   "source": [
    "And using them we can express arbitrary logical operations."
   ]
  },
  {
   "cell_type": "code",
   "execution_count": null,
   "metadata": {},
   "outputs": [],
   "source": [
    "## QUESTION: what are the results of the following operations?\n",
    "\n",
    "## Unary operator: negation\n",
    "not True"
   ]
  },
  {
   "cell_type": "code",
   "execution_count": 1,
   "metadata": {},
   "outputs": [
    {
     "data": {
      "text/plain": [
       "True"
      ]
     },
     "execution_count": 1,
     "metadata": {},
     "output_type": "execute_result"
    }
   ],
   "source": [
    "not False"
   ]
  },
  {
   "cell_type": "code",
   "execution_count": null,
   "metadata": {},
   "outputs": [],
   "source": [
    "## Binary operators: \n",
    "## conjunction (logical and)\n",
    "True and True"
   ]
  },
  {
   "cell_type": "code",
   "execution_count": null,
   "metadata": {},
   "outputs": [],
   "source": [
    "True and False"
   ]
  },
  {
   "cell_type": "code",
   "execution_count": null,
   "metadata": {},
   "outputs": [],
   "source": [
    "False and True"
   ]
  },
  {
   "cell_type": "code",
   "execution_count": null,
   "metadata": {},
   "outputs": [],
   "source": [
    "False and False"
   ]
  },
  {
   "cell_type": "code",
   "execution_count": null,
   "metadata": {},
   "outputs": [],
   "source": [
    "## Disjunction (logical or)\n",
    "True or True"
   ]
  },
  {
   "cell_type": "code",
   "execution_count": null,
   "metadata": {},
   "outputs": [],
   "source": [
    "True or False"
   ]
  },
  {
   "cell_type": "code",
   "execution_count": 2,
   "metadata": {},
   "outputs": [
    {
     "data": {
      "text/plain": [
       "True"
      ]
     },
     "execution_count": 2,
     "metadata": {},
     "output_type": "execute_result"
    }
   ],
   "source": [
    "False or True"
   ]
  },
  {
   "cell_type": "code",
   "execution_count": null,
   "metadata": {},
   "outputs": [],
   "source": [
    "False or False"
   ]
  },
  {
   "cell_type": "markdown",
   "metadata": {},
   "source": [
    "So far so good, but what about other basic binary operators we know (right?) from our logic classes?\n",
    "\n",
    "Usually there are at least two more:\n",
    "\n",
    "* Implication: $p \\Rightarrow q$\n",
    "* Equivalence: $p \\Leftrightarrow q$"
   ]
  },
  {
   "cell_type": "markdown",
   "metadata": {},
   "source": [
    "This is a good moment to briefly introduce the concept of variables (we will talk more about it soon).\n",
    "What we would like to do now, is to assign logical values (`True` or `False`) to two variables (`p` and `q`) and build logical expressions using only the operators we introduced so far representing implication and equivalence."
   ]
  },
  {
   "cell_type": "code",
   "execution_count": null,
   "metadata": {},
   "outputs": [],
   "source": [
    "## Assigning values to names (variables)\n",
    "p = True\n",
    "q = True\n",
    "## Note that we use a single 'equal' sign to assign to variables\n",
    "## Double 'equal' is used for comparisons\n",
    "\n",
    "## Simple as that :)"
   ]
  },
  {
   "cell_type": "code",
   "execution_count": null,
   "metadata": {},
   "outputs": [],
   "source": [
    "## NOTE: variables defined in one chunk can be accessed in another one\n",
    "p"
   ]
  },
  {
   "cell_type": "code",
   "execution_count": null,
   "metadata": {},
   "outputs": [],
   "source": [
    "## EXCERCISE: define implication\n",
    "## IMPLICATION: The truth table\n",
    "# p | q | p => q\n",
    "# 1 | 1 |   1\n",
    "# 1 | 0 |   0\n",
    "# 0 | 1 |   1\n",
    "# 0 | 0 |   1\n",
    "\n",
    "not p or q"
   ]
  },
  {
   "cell_type": "code",
   "execution_count": null,
   "metadata": {},
   "outputs": [],
   "source": [
    "## EXCERCISE: define equivalence\n",
    "## EQUIVALENCE: The truth table\n",
    "# p | q | p <=> q\n",
    "# 1 | 1 |    1\n",
    "# 0 | 1 |    0\n",
    "# 1 | 0 |    0\n",
    "# 0 | 0 |    1\n",
    "(p and q) or (not p and not q)"
   ]
  },
  {
   "cell_type": "markdown",
   "metadata": {},
   "source": [
    "Sometimes people use also so `XOR` operator, which is exclusive or. Can you implement it in Python with basic logical operators?"
   ]
  },
  {
   "cell_type": "code",
   "execution_count": null,
   "metadata": {},
   "outputs": [],
   "source": [
    "## EXCERCISE: define XOR\n",
    "## XOR: The truth table\n",
    "# p | q | p XOR q\n",
    "# 1 | 1 |  0\n",
    "# 1 | 0 |  1\n",
    "# 0 | 1 |  1\n",
    "# 0 | 0 |  0\n",
    "\n",
    "(p and not q) or (not p and q)"
   ]
  },
  {
   "cell_type": "markdown",
   "metadata": {},
   "source": [
    "### Primitive types"
   ]
  },
  {
   "cell_type": "markdown",
   "metadata": {},
   "source": [
    "We have already seen quite a few different types of values, namely integers (whole numbers), floating-point (real) numbers and logical values. However, it would be nice if we could write something and compute on textual values, right? Fortunately, we can."
   ]
  },
  {
   "cell_type": "code",
   "execution_count": null,
   "metadata": {},
   "outputs": [],
   "source": [
    "\"Bob and Alice are two generic persons.\""
   ]
  },
  {
   "cell_type": "markdown",
   "metadata": {},
   "source": [
    "The thing above is a so-called **string** (abbreviated as `str` in Python)."
   ]
  },
  {
   "cell_type": "markdown",
   "metadata": {},
   "source": [
    "Summing up we have the following primitive types in Python (sorted by generality):\n",
    "\n",
    "1. Logical values (or booleans; called `bool` in Python)\n",
    "2. Integers (called `int` in Python)\n",
    "3. Floating-point numbers (called `float` in Python)\n",
    "4. Strings (called `str` in Python)"
   ]
  },
  {
   "cell_type": "markdown",
   "metadata": {},
   "source": [
    "We have already seen that we have quite a lot of different operators that allow us to compute numbers and booleans. It turns out that we have also some basic operators for computing on strings."
   ]
  },
  {
   "cell_type": "code",
   "execution_count": null,
   "metadata": {},
   "outputs": [],
   "source": [
    "s1 = \"Text\"\n",
    "s2 = \"More text\""
   ]
  },
  {
   "cell_type": "code",
   "execution_count": null,
   "metadata": {},
   "outputs": [],
   "source": [
    "## Adding two strings concatenates them\n",
    "s1 + s2"
   ]
  },
  {
   "cell_type": "code",
   "execution_count": null,
   "metadata": {},
   "outputs": [],
   "source": [
    "## Multiplying a string by an integer repeats it n times\n",
    "s1*4"
   ]
  },
  {
   "cell_type": "code",
   "execution_count": null,
   "metadata": {},
   "outputs": [],
   "source": [
    "## Does it always make sense to multiply a string?\n",
    "s1 * 2.5"
   ]
  },
  {
   "cell_type": "code",
   "execution_count": null,
   "metadata": {},
   "outputs": [],
   "source": [
    "## We can also ask for the length of a string (number of individual characters)\n",
    "len(s1)"
   ]
  },
  {
   "cell_type": "markdown",
   "metadata": {},
   "source": [
    "There are many more tricks you can do with strings, but we will not go further into that for now."
   ]
  },
  {
   "cell_type": "markdown",
   "metadata": {},
   "source": [
    "### Composite types and collections"
   ]
  },
  {
   "cell_type": "markdown",
   "metadata": {},
   "source": [
    "Now we can do something with booleans, numbers, and strings. That is fine, but it is still hard to express any non-trivial computation using only the basic stuff we have seen so far.\n",
    "\n",
    "For instance, let us imagine that we are provided with a simple list of numbers:\n",
    "\n",
    "* 3\n",
    "* 7\n",
    "* 5\n",
    "* 11\n",
    "* 14\n",
    "* 3\n",
    "* -5\n",
    "\n",
    "and we would like to compute their sum. Using only the basic operators and primitive types it would take a lof typing and would defy any advantage of using a computer in the first place!"
   ]
  },
  {
   "cell_type": "code",
   "execution_count": null,
   "metadata": {},
   "outputs": [],
   "source": [
    "num1 = 3\n",
    "num2 = 7\n",
    "num3 = 5\n",
    "num4 = 11\n",
    "num5 = 14\n",
    "num6 = 3\n",
    "num7 = -5\n",
    "\n",
    "total = num1 + num2 + num3 + num4 + num5 + num6 + num7\n",
    "total"
   ]
  },
  {
   "cell_type": "markdown",
   "metadata": {},
   "source": [
    "That is stupid, right? The good news is that we have also more 'composite' types that allow us to arrange multiple objects into so-called **collections**."
   ]
  },
  {
   "cell_type": "markdown",
   "metadata": {},
   "source": [
    "Perhaps the most obvious and typical type of collection is **list**. It also enables us to at least try to solve our problem in a more efficient manner."
   ]
  },
  {
   "cell_type": "code",
   "execution_count": null,
   "metadata": {},
   "outputs": [],
   "source": [
    "## We can arrange multiple values (separated with commas) in a list\n",
    "numbers = [ 3, 7, 5, 11, 14, 3, -5 ]"
   ]
  },
  {
   "cell_type": "markdown",
   "metadata": {},
   "source": [
    "Ok, this is cool, but what to do with it? For starters, we can try to access individual elements of a list."
   ]
  },
  {
   "cell_type": "code",
   "execution_count": null,
   "metadata": {},
   "outputs": [],
   "source": [
    "## NOTE: in Python we start counting from 0!!!!\n",
    "numbers[0]   # First element"
   ]
  },
  {
   "cell_type": "code",
   "execution_count": null,
   "metadata": {},
   "outputs": [],
   "source": [
    "numbers[3]   # 3+1 = 4th element"
   ]
  },
  {
   "cell_type": "code",
   "execution_count": null,
   "metadata": {},
   "outputs": [],
   "source": [
    "## We can also count starting from the end\n",
    "numbers[-1]  # The last element"
   ]
  },
  {
   "cell_type": "code",
   "execution_count": null,
   "metadata": {},
   "outputs": [],
   "source": [
    "numbers[-3]  # The third last element\n",
    "\n",
    "## QUESTION: \n",
    "## why don't we start backward counting from 0??\n",
    "## What will `numbers[-0]` give??\n",
    "## This perhaps tells us something about how Python PARSES the source code"
   ]
  },
  {
   "cell_type": "code",
   "execution_count": null,
   "metadata": {},
   "outputs": [],
   "source": [
    "## We can also access slices of lists\n",
    "numbers[2:5] ## Which elements does this give?"
   ]
  },
  {
   "cell_type": "code",
   "execution_count": null,
   "metadata": {},
   "outputs": [],
   "source": [
    "## From the beginning up to some element\n",
    "numbers[:5]"
   ]
  },
  {
   "cell_type": "code",
   "execution_count": null,
   "metadata": {},
   "outputs": [],
   "source": [
    "## From an element to the end\n",
    "numbers[3:]"
   ]
  },
  {
   "cell_type": "code",
   "execution_count": null,
   "metadata": {},
   "outputs": [],
   "source": [
    "## We can also use negative indexes\n",
    "numbers[-3:]"
   ]
  },
  {
   "cell_type": "code",
   "execution_count": null,
   "metadata": {},
   "outputs": [],
   "source": [
    "## We can also leverage the power of our list using some built-in commands\n",
    "## For instance, we can count the elements by asking for the length of the list\n",
    "len(numbers)"
   ]
  },
  {
   "cell_type": "code",
   "execution_count": null,
   "metadata": {},
   "outputs": [],
   "source": [
    "## More importantly, to solve our task we can use the built-in sum function\n",
    "## It consumes a collection of numbers adds them up\n",
    "sum(numbers)"
   ]
  },
  {
   "cell_type": "markdown",
   "metadata": {},
   "source": [
    "Ok, but what happened under the hood? What did Python do to compute the sum?\n",
    "Moreover, it would be quite stupid if the only advantage we could gain from a list would be keeping our items arranged and applying some predefined built-in commands. We want to be able to express arbitrary computations on multiple values in a concise manner.\n",
    "\n",
    "This leads us to the fundamental notion of a loop."
   ]
  },
  {
   "cell_type": "code",
   "execution_count": null,
   "metadata": {},
   "outputs": [],
   "source": [
    "## This is what `sum` does behind the scenes\n",
    "total = 0\n",
    "for number in numbers:\n",
    "    total = total + number\n",
    "    # We can write the assignment in an even more concise manner\n",
    "    # total += number  ## Notice the special increment-assignment operator `+=`\n",
    "\n",
    "total"
   ]
  },
  {
   "cell_type": "code",
   "execution_count": null,
   "metadata": {},
   "outputs": [],
   "source": [
    "total == sum(numbers)\n",
    "## What happened here?"
   ]
  },
  {
   "cell_type": "markdown",
   "metadata": {},
   "source": [
    "There is one very neat concept in Python that should be introduced now: **comprehensions**.\n",
    "\n",
    "Let us now assume that we would like to compute a sum of our numbers squared. This can not be deduced from the total only (why?), so we need it to include the logic of this operation in our loop.\n",
    "\n",
    "A verbose strategy could like this:"
   ]
  },
  {
   "cell_type": "code",
   "execution_count": null,
   "metadata": {},
   "outputs": [],
   "source": [
    "total = 0\n",
    "for number in numbers:\n",
    "    total += number**2\n",
    "\n",
    "total"
   ]
  },
  {
   "cell_type": "markdown",
   "metadata": {},
   "source": [
    "That is nice, but what if we would like to use the built-in `sum` function? It seems we would have to modify our list first."
   ]
  },
  {
   "cell_type": "code",
   "execution_count": null,
   "metadata": {},
   "outputs": [],
   "source": [
    "numbers2 = numbers[:]  ## This is a trick to copy our list of numbers\n",
    "\n",
    "for i in range(len(numbers2)):\n",
    "    numbers2[i] **= 2\n",
    "\n",
    "sum(numbers2)"
   ]
  },
  {
   "cell_type": "markdown",
   "metadata": {},
   "source": [
    "This is okay, but it involves a lot of code. We would like to do better to save us some typing and avoid creating a lot of unnecessary objects along the way.\n",
    "This is exactly the use-case for _comprehensions_."
   ]
  },
  {
   "cell_type": "code",
   "execution_count": null,
   "metadata": {},
   "outputs": [],
   "source": [
    "sum([ number**2 for number in numbers ])"
   ]
  },
  {
   "cell_type": "markdown",
   "metadata": {},
   "source": [
    "Voila! But what happened?\n",
    "\n",
    "First, we created a list with a comprehension statement:"
   ]
  },
  {
   "cell_type": "code",
   "execution_count": null,
   "metadata": {},
   "outputs": [],
   "source": [
    "[ number**2 for number in numbers ]"
   ]
  },
  {
   "cell_type": "markdown",
   "metadata": {},
   "source": [
    "And then we summed it with `sum` function."
   ]
  },
  {
   "cell_type": "markdown",
   "metadata": {},
   "source": [
    "Now we will go through the basic list operations."
   ]
  },
  {
   "cell_type": "code",
   "execution_count": null,
   "metadata": {},
   "outputs": [],
   "source": [
    "## Set up some list\n",
    "L = [ 'Alice', 'Bob', 'Batman', 'Superman', 'Car', 'Baloon' ]"
   ]
  },
  {
   "cell_type": "code",
   "execution_count": null,
   "metadata": {},
   "outputs": [],
   "source": [
    "## Access by index\n",
    "L[3]"
   ]
  },
  {
   "cell_type": "code",
   "execution_count": null,
   "metadata": {},
   "outputs": [],
   "source": [
    "## Assign to element by index\n",
    "L[3] = 'Spiderman'\n",
    "## See that we changed 'Superman' to 'Spiderman'\n",
    "L"
   ]
  },
  {
   "cell_type": "code",
   "execution_count": null,
   "metadata": {},
   "outputs": [],
   "source": [
    "## Remove the element by index\n",
    "del L[3]\n",
    "## Note that we removed 'Spiderman'\n",
    "L"
   ]
  },
  {
   "cell_type": "code",
   "execution_count": null,
   "metadata": {},
   "outputs": [],
   "source": [
    "## Remove the element by value\n",
    "L.remove('Car')\n",
    "## Note that we removed 'Car'\n",
    "L"
   ]
  },
  {
   "cell_type": "code",
   "execution_count": null,
   "metadata": {},
   "outputs": [],
   "source": [
    "## We get an error if we try to remove an element that does not exist\n",
    "L.remove('Car')"
   ]
  },
  {
   "cell_type": "code",
   "execution_count": null,
   "metadata": {},
   "outputs": [],
   "source": [
    "## Pop: get by index and remove element from the list\n",
    "## No index means the last element\n",
    "print(L)\n",
    "item = L.pop()\n",
    "print(item)\n",
    "print(L)"
   ]
  },
  {
   "cell_type": "code",
   "execution_count": null,
   "metadata": {},
   "outputs": [],
   "source": [
    "## Append to list\n",
    "print(L)\n",
    "L.append(item)\n",
    "print(L)"
   ]
  },
  {
   "cell_type": "code",
   "execution_count": null,
   "metadata": {},
   "outputs": [],
   "source": [
    "## Ask for length (number of items)\n",
    "len(L)"
   ]
  },
  {
   "cell_type": "code",
   "execution_count": null,
   "metadata": {},
   "outputs": [],
   "source": [
    "## Check if an item is in the list\n",
    "print(L)\n",
    "print('Bob' in L)\n",
    "print('Tommy' in L)"
   ]
  },
  {
   "cell_type": "markdown",
   "metadata": {},
   "source": [
    "#### Mappings (dict)"
   ]
  },
  {
   "cell_type": "markdown",
   "metadata": {},
   "source": [
    "Now let us switch attention and talk about the second fundamental type of collection: a mapping.\n",
    "Mapping is a set of key-value pairs. The standard mapping object in Python is a `dict`."
   ]
  },
  {
   "cell_type": "code",
   "execution_count": null,
   "metadata": {},
   "outputs": [],
   "source": [
    "dct = {\n",
    "    'name': 'John',\n",
    "    'surname': 'Doe'\n",
    "}\n",
    "dct"
   ]
  },
  {
   "cell_type": "markdown",
   "metadata": {},
   "source": [
    "How we can use a mapping like this? We can use it, of course, to store some values and access them in a convenient manner. But how do we access values stored in a `dict`?"
   ]
  },
  {
   "cell_type": "code",
   "execution_count": null,
   "metadata": {},
   "outputs": [],
   "source": [
    "## Maybe we can access them like list-elements with numeric indices?\n",
    "## 'name' seems to be the first key\n",
    "dct[0]"
   ]
  },
  {
   "cell_type": "code",
   "execution_count": null,
   "metadata": {},
   "outputs": [],
   "source": [
    "## The idea of a map of key-value pairs is that we find items by their 'keys' (right-hand side value)\n",
    "dct['name']"
   ]
  },
  {
   "cell_type": "code",
   "execution_count": null,
   "metadata": {},
   "outputs": [],
   "source": [
    "## Can we find a key by its value?\n",
    "dct['John']"
   ]
  },
  {
   "cell_type": "markdown",
   "metadata": {},
   "source": [
    "Why is it so?\n",
    "\n",
    "The rationale for that is the following.\n",
    "\n",
    "Mappings are meant to represent functions, which mathematically are maps from one set to another ($A \\mapsto B$).\n",
    "It means that every element of $A$ (key) has to be uniquely mapped to an element of $B$ (value), but multiple keys can be mapped to one value."
   ]
  },
  {
   "cell_type": "code",
   "execution_count": null,
   "metadata": {},
   "outputs": [],
   "source": [
    "## dict modeling a function that is not 1-to-1\n",
    "func = {\n",
    "    'x': 'a',\n",
    "    'y': 'b',\n",
    "    'z': 'b'\n",
    "}\n",
    "func"
   ]
  },
  {
   "cell_type": "markdown",
   "metadata": {},
   "source": [
    "Now, if we would like to reverse this mapping and swapped keys with values we would lose information (and we would lose it in an unpredictable manner)."
   ]
  },
  {
   "cell_type": "code",
   "execution_count": null,
   "metadata": {},
   "outputs": [],
   "source": [
    "reversed_func = { v: k for k, v in func.items() }\n",
    "reversed_func"
   ]
  },
  {
   "cell_type": "markdown",
   "metadata": {},
   "source": [
    "We have just seen an example of iterating over a `dict` in the form of a dict-comprehension."
   ]
  },
  {
   "cell_type": "markdown",
   "metadata": {},
   "source": [
    "`dict`s are very nice because they allow us to iterate over them in multiple ways."
   ]
  },
  {
   "cell_type": "code",
   "execution_count": null,
   "metadata": {},
   "outputs": [],
   "source": [
    "for k in func.keys(): print(k)"
   ]
  },
  {
   "cell_type": "code",
   "execution_count": null,
   "metadata": {},
   "outputs": [],
   "source": [
    "# Equivalent to:\n",
    "for k in func: print(k)"
   ]
  },
  {
   "cell_type": "code",
   "execution_count": null,
   "metadata": {},
   "outputs": [],
   "source": [
    "for k in func.values(): print(k)"
   ]
  },
  {
   "cell_type": "code",
   "execution_count": null,
   "metadata": {},
   "outputs": [],
   "source": [
    "for k, v in func.items(): print(k, v)"
   ]
  },
  {
   "cell_type": "markdown",
   "metadata": {},
   "source": [
    "Mapping offers a convenient way of storing and manipulating data in a way so the data items can be called by their 'names'.\n",
    "\n",
    "In their standard incarnation in the form of `dict` mappings are inherently unordered. This is a good feature as it allows very fast access regardless of the size of the mapping (even when it has millions of key-value pairs). In many cases, this allows us to trade memory for computation time and speed up algorithms significantly.\n",
    "\n",
    "Later we will see that in a simple exercise in which we will try to count occurrences of unique values in a sequence of numbers."
   ]
  },
  {
   "cell_type": "markdown",
   "metadata": {},
   "source": [
    "Now we overview basic operation one can perform with `dict`s."
   ]
  },
  {
   "cell_type": "code",
   "execution_count": null,
   "metadata": {},
   "outputs": [],
   "source": [
    "## Set up some dict\n",
    "dct = {\n",
    "    'country': 'PL',\n",
    "    'profession': 'king',\n",
    "    'name': 'Mieszko',\n",
    "    'number': 1\n",
    "}\n",
    "dct"
   ]
  },
  {
   "cell_type": "code",
   "execution_count": null,
   "metadata": {},
   "outputs": [],
   "source": [
    "## Access value by key\n",
    "dct['name']"
   ]
  },
  {
   "cell_type": "code",
   "execution_count": null,
   "metadata": {},
   "outputs": [],
   "source": [
    "## Delete value by key\n",
    "print(dct)\n",
    "del dct['profession']\n",
    "print(dct)"
   ]
  },
  {
   "cell_type": "code",
   "execution_count": null,
   "metadata": {},
   "outputs": [],
   "source": [
    "## Pop value by key\n",
    "print(dct)\n",
    "item = dct.pop('country')\n",
    "print(item)\n",
    "print(dct)"
   ]
  },
  {
   "cell_type": "code",
   "execution_count": null,
   "metadata": {},
   "outputs": [],
   "source": [
    "## Assign value to a key / create key-value pair if key does not exist\n",
    "print(dct)\n",
    "dct['country'] = item\n",
    "print(dct)"
   ]
  },
  {
   "cell_type": "code",
   "execution_count": null,
   "metadata": {},
   "outputs": [],
   "source": [
    "## Ask for length (number of key-value pairs)\n",
    "len(dct)"
   ]
  },
  {
   "cell_type": "code",
   "execution_count": null,
   "metadata": {},
   "outputs": [],
   "source": [
    "## Check if key belongs to the dict\n",
    "print(dct)\n",
    "print('name' in dct)\n",
    "print('height' in dct)"
   ]
  },
  {
   "cell_type": "markdown",
   "metadata": {},
   "source": [
    "### Functions"
   ]
  },
  {
   "cell_type": "markdown",
   "metadata": {},
   "source": [
    "We mentioned briefly that mappings like `dict` allow us to represent mathematical functions. However, using them we can do so only in a very explicit way since we have to specify every single key-value (argument-output) pair. But we would like to be more implicit and generic and define relationships between\n",
    "objects in terms of computations transforming one set of objects (the arguments) to some other object / set of objects (the output) according to some well-defined\n",
    "rules. Like in:\n",
    "\n",
    "$$\n",
    "f(x) = 2x + 7\n",
    "$$\n",
    "\n",
    "This leads us naturally to the notion of a function as an encapsulated set of instructions."
   ]
  },
  {
   "cell_type": "code",
   "execution_count": null,
   "metadata": {},
   "outputs": [],
   "source": [
    "## Define f(x) = 2x + 7 as a Python function\n",
    "def f(x):\n",
    "    return 2*x + 7\n",
    "\n",
    "f(2) ==  2*2 + 7 == 11"
   ]
  },
  {
   "cell_type": "markdown",
   "metadata": {},
   "source": [
    "Function are extremely important because they allow us to write code implementing some operations only once and then reuse it in different circumstances.\n",
    "In general, you should always try to follow the DRY (Do not Repeat Yourself) principle and write as functions everything that you will need to do more than once."
   ]
  },
  {
   "cell_type": "markdown",
   "metadata": {},
   "source": [
    "### Conditional statements (IF)"
   ]
  },
  {
   "cell_type": "markdown",
   "metadata": {},
   "source": [
    "Now it is time for (perhaps) the last fundamental idea that is necessary to express arbitrary computations. This is the idea of conditional statements (IF-statements).\n",
    "\n",
    "IF-statements are just about executing some parts of code only when a condition (that is some boolean value) is meet (it is `True`)."
   ]
  },
  {
   "cell_type": "code",
   "execution_count": null,
   "metadata": {},
   "outputs": [],
   "source": [
    "## Function for checking if number is even\n",
    "def is_even(x):\n",
    "    return x % 2 == 0\n",
    "\n",
    "print(8, is_even(8))\n",
    "print(11, is_even(11))"
   ]
  },
  {
   "cell_type": "code",
   "execution_count": null,
   "metadata": {},
   "outputs": [],
   "source": [
    "## Now we can use `is_even` to define something a little more complex\n",
    "def weird_function(x):\n",
    "    if x > 10 and is_even(x):\n",
    "        return x*100\n",
    "    elif x > 5 and not is_even(x):\n",
    "        return x*10\n",
    "    else:\n",
    "        return x*2"
   ]
  },
  {
   "cell_type": "code",
   "execution_count": null,
   "metadata": {},
   "outputs": [],
   "source": [
    "# Predict value\n",
    "weird_function(12)"
   ]
  },
  {
   "cell_type": "code",
   "execution_count": null,
   "metadata": {},
   "outputs": [],
   "source": [
    "# Predict value\n",
    "weird_function(13)"
   ]
  },
  {
   "cell_type": "code",
   "execution_count": null,
   "metadata": {},
   "outputs": [],
   "source": [
    "# Predict value\n",
    "weird_function(6)"
   ]
  },
  {
   "cell_type": "code",
   "execution_count": null,
   "metadata": {},
   "outputs": [],
   "source": [
    "# Predict value\n",
    "weird_function(9)"
   ]
  },
  {
   "cell_type": "code",
   "execution_count": null,
   "metadata": {},
   "outputs": [],
   "source": [
    "# Predict value\n",
    "weird_function(2)"
   ]
  },
  {
   "cell_type": "markdown",
   "metadata": {},
   "source": [
    "### Excercises"
   ]
  },
  {
   "cell_type": "markdown",
   "metadata": {},
   "source": [
    "Now we will do an exercise that will force us to use almost all the concepts we have seen so far.\n",
    "\n",
    "The goal is to implement function counting occurrences of unique items (numbers) in two ways.\n",
    "One should be based on iterating over `list`s and the second one should use `dict`s.\n",
    "As we will see, for big enough datasets the second one will be far superior.\n",
    "\n",
    "The idea is that we take some (possibly disordered) sequence of numbers and use our function to count unique elements."
   ]
  },
  {
   "cell_type": "code",
   "execution_count": null,
   "metadata": {},
   "outputs": [],
   "source": [
    "## HERE WE GENERATE A SEQUENCE OF HUNDRED THOUSANDs RANDOM NUMBERS\n",
    "\n",
    "import numpy as np    ## Additional library to efficiently generate some random numbers\n",
    "np.random.seed(303)   ## Set random number generator seed\n",
    "\n",
    "# NOTE\n",
    "# ----\n",
    "# Computers can not generate truly random numbers.\n",
    "# What they do instead they generate so-called pseudorandom\n",
    "# numbers which are generated by deterministic but chaotic algorithms.\n",
    "# These algorithms must be initialized by some value called a 'seed',\n",
    "# so while appearing random they will always produce the same results\n",
    "# for the same seed. This is actually a desirable feature\n",
    "# since it enables reproducible computation.\n",
    "# ----\n",
    "\n",
    "# Generate some random integers between 0 and 19\n",
    "rand_numbers = np.random.randint(0, 20, (100000,)).tolist()\n",
    "## Peak first 10 numbers\n",
    "rand_numbers[:10]"
   ]
  },
  {
   "cell_type": "code",
   "execution_count": null,
   "metadata": {},
   "outputs": [],
   "source": [
    "## Here we define testing functions that we will use to assert the correctness of our implementations.\n",
    "def test_correctness(output, expected_output):\n",
    "    assert dict(output) == dict(expected_output), \"Incorrect output!\"\n",
    "    print(\"Test passed!\")"
   ]
  },
  {
   "cell_type": "code",
   "execution_count": null,
   "metadata": {},
   "outputs": [],
   "source": [
    "## EXCERCISE A: list-based implementation\n",
    "## ---\n",
    "## Example input: [0, 0, 1, 2, 2, 0]\n",
    "## Example output:\n",
    "## [ [0, 3], [1, 1], [2, 2] ]\n",
    "##\n",
    "## Ordering can be arbitrary\n",
    "\n",
    "def func_A(seq):\n",
    "    counter = []\n",
    "    return counter"
   ]
  },
  {
   "cell_type": "code",
   "execution_count": null,
   "metadata": {},
   "outputs": [],
   "source": [
    "## EXCERCISE A: test\n",
    "test_input  = [0, 0, 1, 2, 2, 0]\n",
    "expected_output = [ [0, 3], [1, 1], [2, 2] ]\n",
    "\n",
    "output = func_A(test_input)\n",
    "print(output)\n",
    "test_correctness(output, expected_output)"
   ]
  },
  {
   "cell_type": "code",
   "execution_count": null,
   "metadata": {},
   "outputs": [],
   "source": [
    "## EXCERCISE B: dict-based implementation\n",
    "## ---\n",
    "## Example input: [0, 0, 1, 2, 2, 0]\n",
    "## Example output:\n",
    "## { 0: 3, 1: 1, 2: 2 }\n",
    "##\n",
    "## Ordering can be arbitrary\n",
    "\n",
    "def func_B(seq):\n",
    "    counter = {}\n",
    "    return counter"
   ]
  },
  {
   "cell_type": "code",
   "execution_count": null,
   "metadata": {},
   "outputs": [],
   "source": [
    "## EXCERCISE B: test\n",
    "test_input = [0, 0, 1, 2, 2, 0]\n",
    "expected_output = { 0: 3, 1: 1, 2: 2 }\n",
    "\n",
    "output = func_B(test_input)\n",
    "print(output)\n",
    "assert test_correctness(output, expected_output)"
   ]
  },
  {
   "cell_type": "code",
   "execution_count": null,
   "metadata": {},
   "outputs": [],
   "source": [
    "%%time\n",
    "## List-based implementation performance\n",
    "_ = func_A(rand_numbers)"
   ]
  },
  {
   "cell_type": "code",
   "execution_count": null,
   "metadata": {},
   "outputs": [],
   "source": [
    "%%time\n",
    "## Dict-based implementation performance\n",
    "_ = func_B(rand_numbers)"
   ]
  }
 ],
 "metadata": {
  "kernelspec": {
   "display_name": "Python 3",
   "language": "python",
   "name": "python3"
  },
  "language_info": {
   "codemirror_mode": {
    "name": "ipython",
    "version": 3
   },
   "file_extension": ".py",
   "mimetype": "text/x-python",
   "name": "python",
   "nbconvert_exporter": "python",
   "pygments_lexer": "ipython3",
   "version": "3.7.3"
  }
 },
 "nbformat": 4,
 "nbformat_minor": 4
}
