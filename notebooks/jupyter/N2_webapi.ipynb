{
  "nbformat": 4,
  "nbformat_minor": 0,
  "metadata": {
    "colab": {
      "name": "C6-webapi.ipynb",
      "provenance": [],
      "collapsed_sections": []
    },
    "kernelspec": {
      "name": "python3",
      "display_name": "Python 3"
    }
  },
  "cells": [
    {
      "cell_type": "markdown",
      "metadata": {
        "id": "LrC9U1ymAb5p",
        "colab_type": "text"
      },
      "source": [
        "# Web APIs and HTTP requests\n",
        "\n",
        "In this class we will cover basics of using and accessing public data web APIs\n",
        "(*Application Programming Interface*).\n",
        "In a nutshell web APIs are publicly (usually; there is plenty of private APIs, but for obviour reasons we do not care about them as we can not use them) available interfaces through which third parties (this is us!) can access\n",
        "some data resources in a remote, reliable and programmable manner.\n",
        "\n",
        "What does it mean in practice?\n",
        "\n",
        "* **Remote.** Users can access resource from anywhere, provided they have internet connection.\n",
        "\n",
        "* **Reliable.** The interface exposed to users is independent of the internal\n",
        "details of the system that produces the data. In other words, the way a user\n",
        "communicates with the API is independent of the way the system works. In practice it means that a user does not have to know anything about the system,\n",
        "it is enough to know the API interface.\n",
        "\n",
        "* **Programmable.** API can be interacted with based on predefined set of commands/methods (an interface) in a way that can be expressed with a programming language. This is usually achieved by using HTTP protocol which a standard communication protocol in the Web and for which utilities are available in any major programming language."
      ]
    },
    {
      "cell_type": "markdown",
      "metadata": {
        "id": "-I2GiPbYKVOR",
        "colab_type": "text"
      },
      "source": [
        "## Practical example\n",
        "\n",
        "But what does that all really mean? Let us now turn to an example to understand it better. We will use the public API of Wikipedia (we all know what it is, right?).\n",
        "\n",
        "Public Wikipedia API can be used for many purposes, but it also makes publicly available a lot (in fact almost all) of data that is stored within Wikipedia,\n",
        "such as page statistics, registered users etc.\n",
        "\n",
        "We mentioned that in some sense an API is an interface that allows third parties to communicate with and requests various thing from some platform in an orderly and programmable manner. Let us know see such a real example of such an interface.\n",
        "\n",
        "Wikipedia API (for English Wikipedia) lives at at this url:\n",
        "\n",
        "* [https://en.wikipedia.org/w/api.php](https://en.wikipedia.org/w/api.php)\n",
        "\n",
        "The url takes us to an ugly webpage that contains documentation on all so-called API endpoints exposed by the Wikipedia API. What are they? Endpoints are *commands/requests* that the API understand and that can be used to extract some data from it. They define exactly the interface through which one can communicate with some external system via API.\n",
        "\n",
        "So summing up, an API understood as in interface is:\n",
        "\n",
        "* a publicly available *place* in the internet (associated with a particular URL)\n",
        "* a set of endpoints (commands) that define possible interactions with the API.\n",
        "\n",
        "Ok, so we have seen that the Wikipedia API lives at a particular URL. However, the URL by itself just leads us to a documentation describing all the endpoints. So how can we use a particular endpoint to actually do something? Let us inspect endpoint called [query](https://en.wikipedia.org/w/api.php?action=help&modules=query)\n",
        "\n",
        "`https://en.wikipedia.org/w/api.php?action=help&modules=query`\n",
        "\n",
        "Now we see documentation for the endpoint `query`. It is quite complex as it kind of defines another nested API within the top API. From now on we will work exclusively with this part of the Wikipedia API, since this is the one we have to use to extract data from Wikipedia.\n",
        "\n",
        "Let us now note that the URL has already a particular form:\n",
        "\n",
        "`<URL>?<key-value pair>&<key-value pair> ...`\n",
        "\n",
        "The part after the `?` sign is crucial here as it defines a so-called query string that can be passed with an url. A query string does not specify a different location (like a URL does), instead it attaches some additional data to a request send to a location specified in the standard `<URL>` part. This is additional data is crucial here since it allows us to communicate with APIs through the HTTP protocol.\n",
        "\n",
        "Now it is clear that `https://en.wikipedia.org/w/api.php?action=help&modules=query` is still the same address as `https://en.wikipedia.org/w/api.php`, but enhanced with additional data that told the Wikipedia API to take as to the help page of the module (endpoint) `query`.\n",
        "\n",
        "So let us now try to finally do something useful.\n",
        "\n",
        "### Extracting list of Wikiprojects from Wikipedia API\n",
        "\n",
        "Now from the docs of the `query` endpoint we select the `projects` [(sub)endpoint](https://en.wikipedia.org/w/api.php?action=help&modules=query%2Bprojects). The documentation gives us instructions for how to use the endpoint as well as some usage examples.\n",
        "\n",
        "When we click the link from the first example we see a long list of project names. These are so-called *Wikiprojects* which are registered semi-official groups of editors dedicated to work on a specific topic/theme. They can give us some basic insight into what kinds of topics are of most interest to Wikipedia editors (but do not base any claims solely on this simple information!)\n",
        "\n",
        "The URL from the first example looks like this:\n",
        "\n",
        "`api.php?action=query&list=projects`\n",
        "\n",
        "Again, it has the URL part (some of it omitted) and the query string part that specify that we use the `query` endpoint and ask it to list all the projects.\n",
        "\n",
        "This is great! We can look at the list in our browsers. However, even this list is somewhat too long to deal with it like this, so would like to process it in Python.\n",
        "\n",
        "## Talking to API from Python\n",
        "\n",
        "Fortunately Python makes it very easy to build HTTP requests and talk to an API. Utilities for this kind of work can be found in the `requests` package.\n",
        "\n",
        "### What is a package?\n",
        "\n",
        "Package in Python is a set of functions (and classes etc.) designed to solve\n",
        "some specific set of problems wraped together in one code bundle so they can be imported and called by other code."
      ]
    },
    {
      "cell_type": "code",
      "metadata": {
        "id": "p8g4YVY5R7Ue",
        "colab_type": "code",
        "colab": {}
      },
      "source": [
        "import requests\n",
        "# From now on we can refer to the `requests` module\n",
        "# by its name (it is saved as a variable!)"
      ],
      "execution_count": 0,
      "outputs": []
    },
    {
      "cell_type": "markdown",
      "metadata": {
        "id": "0FRVoz4jdWYv",
        "colab_type": "text"
      },
      "source": [
        "How can we use it to get some data from an API?\n",
        "\n",
        "Let us decompose this problem into several steps."
      ]
    },
    {
      "cell_type": "code",
      "metadata": {
        "id": "GOCUEfBGc0Fi",
        "colab_type": "code",
        "colab": {}
      },
      "source": [
        "# First define the base API url\n",
        "URL = \"https://en.wikipedia.org/w/api.php\"\n",
        "# Then define the query string parameters you want to pass with you requests\n",
        "# often called 'payload'\n",
        "payload = {\n",
        "    'action': 'query',\n",
        "    'list': 'projects',\n",
        "    'format': 'json'\n",
        "}\n",
        "# 'requests' package wants us to define payload as a dict\n",
        "# since this makes it easy to build GET requests dynamically\n",
        "# in a program"
      ],
      "execution_count": 0,
      "outputs": []
    },
    {
      "cell_type": "code",
      "metadata": {
        "id": "sC1g5TOQeqtP",
        "colab_type": "code",
        "colab": {
          "base_uri": "https://localhost:8080/",
          "height": 35
        },
        "outputId": "3f45a357-7680-45a8-ad9b-4aa903c6f7ab"
      },
      "source": [
        "# Now with the URL and the payload ready we can send a request\n",
        "# to the Wikipedia API to kindly ask for the list of projects\n",
        "#\n",
        "# We do this like this:\n",
        "response = requests.get(URL, params=payload)\n",
        "response"
      ],
      "execution_count": 9,
      "outputs": [
        {
          "output_type": "execute_result",
          "data": {
            "text/plain": [
              "<Response [200]>"
            ]
          },
          "metadata": {
            "tags": []
          },
          "execution_count": 9
        }
      ]
    },
    {
      "cell_type": "code",
      "metadata": {
        "id": "iwgmEk4ke4oI",
        "colab_type": "code",
        "colab": {
          "base_uri": "https://localhost:8080/",
          "height": 35
        },
        "outputId": "f3af5744-7b8e-48c1-8ccc-9d4bfc55ce88"
      },
      "source": [
        "# By a time-honorod tradition of a countless generation\n",
        "# of computer programmers we call the result of web request\n",
        "# a 'response'\n",
        "#\n",
        "# Now we would like to extract the actual data from it\n",
        "data = response.json()\n",
        "# What do we have in the response?\n",
        "data.keys()"
      ],
      "execution_count": 11,
      "outputs": [
        {
          "output_type": "execute_result",
          "data": {
            "text/plain": [
              "dict_keys(['batchcomplete', 'query'])"
            ]
          },
          "metadata": {
            "tags": []
          },
          "execution_count": 11
        }
      ]
    },
    {
      "cell_type": "code",
      "metadata": {
        "id": "h5anqKZEfQOh",
        "colab_type": "code",
        "colab": {
          "base_uri": "https://localhost:8080/",
          "height": 35
        },
        "outputId": "ce8609f5-c977-429c-9243-049cab59c17d"
      },
      "source": [
        "# Probably we want to focus on the 'query' part\n",
        "data['query'].keys()\n",
        "# And here are the projects"
      ],
      "execution_count": 14,
      "outputs": [
        {
          "output_type": "execute_result",
          "data": {
            "text/plain": [
              "dict_keys(['projects'])"
            ]
          },
          "metadata": {
            "tags": []
          },
          "execution_count": 14
        }
      ]
    },
    {
      "cell_type": "code",
      "metadata": {
        "id": "VSKp6E9SgJMV",
        "colab_type": "code",
        "colab": {
          "base_uri": "https://localhost:8080/",
          "height": 35
        },
        "outputId": "d89b1798-d4a4-4ad1-bde8-8513a220817b"
      },
      "source": [
        "# Now let us save the projects in a variable\n",
        "# to save us some typing\n",
        "projects = data['query']['projects']\n",
        "# Now we can easily count the projects\n",
        "len(projects)"
      ],
      "execution_count": 16,
      "outputs": [
        {
          "output_type": "execute_result",
          "data": {
            "text/plain": [
              "1494"
            ]
          },
          "metadata": {
            "tags": []
          },
          "execution_count": 16
        }
      ]
    },
    {
      "cell_type": "code",
      "metadata": {
        "id": "IAFDoUWLgd07",
        "colab_type": "code",
        "colab": {
          "base_uri": "https://localhost:8080/",
          "height": 201
        },
        "outputId": "754f7d6b-223f-4d4e-e952-5c32cb27f777"
      },
      "source": [
        "# and see them if we like ...\n",
        "# ... but maybe not all of them at one\n",
        "# maybe just first ten\n",
        "projects[:10]"
      ],
      "execution_count": 18,
      "outputs": [
        {
          "output_type": "execute_result",
          "data": {
            "text/plain": [
              "['24',\n",
              " 'A Song of Ice and Fire',\n",
              " 'AIDS',\n",
              " 'Abandoned Articles',\n",
              " 'Abandoned Drafts',\n",
              " 'Abkhazia',\n",
              " 'Abortion',\n",
              " 'Academic Journals',\n",
              " 'Accessibility',\n",
              " 'Addictions and recovery']"
            ]
          },
          "metadata": {
            "tags": []
          },
          "execution_count": 18
        }
      ]
    },
    {
      "cell_type": "code",
      "metadata": {
        "id": "b0-ssAjvgk1a",
        "colab_type": "code",
        "colab": {
          "base_uri": "https://localhost:8080/",
          "height": 201
        },
        "outputId": "9a0b9fca-b0e7-41d9-862e-ebc393a3cdcc"
      },
      "source": [
        "# and last ten\n",
        "projects[-10:]"
      ],
      "execution_count": 20,
      "outputs": [
        {
          "output_type": "execute_result",
          "data": {
            "text/plain": [
              "['Yoruba',\n",
              " 'YouTube',\n",
              " 'Yours',\n",
              " 'Youth model government',\n",
              " 'Yugoslavia',\n",
              " 'Zimbabwe',\n",
              " 'Zoo',\n",
              " 'Zoroastrianism',\n",
              " 'liberalism',\n",
              " 'Åland Islands']"
            ]
          },
          "metadata": {
            "tags": []
          },
          "execution_count": 20
        }
      ]
    },
    {
      "cell_type": "markdown",
      "metadata": {
        "id": "u6z2pz5FgzPd",
        "colab_type": "text"
      },
      "source": [
        "The point here is the fact that we loaded the data as a list of strings. These are objects and data types we know! So we can work with them in Python and compute anything we want!"
      ]
    },
    {
      "cell_type": "code",
      "metadata": {
        "id": "HocQnRE-gvNI",
        "colab_type": "code",
        "colab": {}
      },
      "source": [
        ""
      ],
      "execution_count": 0,
      "outputs": []
    }
  ]
}