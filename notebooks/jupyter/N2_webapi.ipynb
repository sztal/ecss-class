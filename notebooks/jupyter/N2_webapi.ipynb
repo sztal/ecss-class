{
 "cells": [
  {
   "cell_type": "markdown",
   "metadata": {
    "colab_type": "text",
    "id": "LrC9U1ymAb5p"
   },
   "source": [
    "# Web APIs and HTTP requests\n",
    "\n",
    "In this class, we will cover the basics of using and accessing public data web APIs\n",
    "(*Application Programming Interface*).\n",
    "In a nutshell, web APIs are publicly (usually; there is plenty of private APIs, but for obvious reasons, we do not care about them as we can not use them) available interfaces through which third parties (this is us!) can access\n",
    "some data resources in a remote, reliable and programmable manner.\n",
    "\n",
    "What does it mean in practice?\n",
    "\n",
    "* **Remote.** Users can access the resource from anywhere, provided they have an internet connection.\n",
    "\n",
    "* **Reliable.** The interface exposed to users is independent of the internal\n",
    "details of the system that produces the data. In other words, the way a user\n",
    "communicates with the API is independent of the way the system works. In practice it means that a user does not have to know anything about the system,\n",
    "it is enough to know the API interface.\n",
    "\n",
    "* **Programmable.** API can be interacted with based on a predefined set of commands/methods (an interface) in a way that can be expressed with a programming language. This is usually achieved by using HTTP protocol which a standard communication protocol in the Web and for which utilities are available in any major programming language."
   ]
  },
  {
   "cell_type": "markdown",
   "metadata": {
    "colab_type": "text",
    "id": "-I2GiPbYKVOR"
   },
   "source": [
    "## Practical example\n",
    "\n",
    "But what does that all really mean? Let us now turn to an example to understand it better. We will use the public API of Wikipedia (we all know what it is, right?).\n",
    "\n",
    "Public Wikipedia API can be used for many purposes, but it also makes publicly available a lot (in fact almost all) of data that is stored within Wikipedia,\n",
    "such as page statistics, registered users, etc.\n",
    "\n",
    "We mentioned that in some sense an API is an interface that allows third parties to communicate with and requests various thing from some platform in an orderly and programmable manner. Let us now see such a real example of such an interface.\n",
    "\n",
    "Wikipedia API (for English Wikipedia) lives at this url:\n",
    "\n",
    "* [https://en.wikipedia.org/w/api.php](https://en.wikipedia.org/w/api.php)\n",
    "\n",
    "The url takes us to an ugly webpage that contains documentation on all so-called API endpoints exposed by the Wikipedia API. What are they? Endpoints are *commands/requests* that the API understands and that can be used to extract some data from it. They define exactly the interface through which one can communicate with some external system via API.\n",
    "\n",
    "So summing up, an API understood as in interface is:\n",
    "\n",
    "* a publicly available *place* on the internet (associated with a particular URL)\n",
    "* a set of endpoints (commands) that define possible interactions with the API.\n",
    "\n",
    "Ok, so we have seen that the Wikipedia API lives at a particular URL. However, the URL by itself just leads us to documentation describing all the endpoints. So how can we use a particular endpoint to actually do something? Let us inspect endpoint called [query](https://en.wikipedia.org/w/api.php?action=help&modules=query)\n",
    "\n",
    "`https://en.wikipedia.org/w/api.php?action=help&modules=query`\n",
    "\n",
    "Now we see the documentation for the endpoint `query`. It is quite complex as it kind of defines another nested API within the top API. From now on we will work exclusively with this part of the Wikipedia API since this is the one we have to use to extract data from Wikipedia.\n",
    "\n",
    "Let us now note that the URL has already a particular form:\n",
    "\n",
    "`<URL>?<key-value pair>&<key-value pair> ...`\n",
    "\n",
    "The part after the `?` sign is crucial here as it defines a so-called query string that can be passed with an url. A query string does not specify a different location (like a URL does), instead, it attaches some additional data to a request sent to a location specified in the standard `<URL>` part. This is additional data is crucial here since it allows us to communicate with APIs through the HTTP protocol.\n",
    "\n",
    "Now it is clear that `https://en.wikipedia.org/w/api.php?action=help&modules=query` is still the same address as `https://en.wikipedia.org/w/api.php` but enhanced with additional data that told the Wikipedia API to take as to the help page of the module (endpoint) `query`.\n",
    "\n",
    "So let us now try to finally do something useful.\n",
    "\n",
    "### Extracting list of Wikiprojects from Wikipedia API\n",
    "\n",
    "Now from the docs of the `query` endpoint, we select the `projects` [(sub)endpoint](https://en.wikipedia.org/w/api.php?action=help&modules=query%2Bprojects). The documentation gives us instructions on how to use the endpoint as well as some usage examples.\n",
    "\n",
    "When we click the link from the first example we see a long list of project names. These are so-called *Wikiprojects* which are registered semi-official groups of editors dedicated to working on a specific topic/theme. They can give us some basic insight into what kinds of topics are of most interest to Wikipedia editors (but do not base any claims solely on this simple information!)\n",
    "\n",
    "The URL from the first example looks like this:\n",
    "\n",
    "`api.php?action=query&list=projects`\n",
    "\n",
    "Again, it has the URL part (some of it omitted) and the query string part that specify that we use the `query` endpoint and ask it to list all the projects.\n",
    "\n",
    "This is great! We can look at the list in our browsers. However, even this list is somewhat too long to deal with it like this, so we would like to process it in Python.\n",
    "\n",
    "## Talking to API from Python\n",
    "\n",
    "Fortunately, Python makes it very easy to build HTTP requests and talk to an API. Utilities for this kind of work can be found in the `requests` package.\n",
    "\n",
    "### What is a package?\n",
    "\n",
    "Package in Python is a set of functions (and classes etc.) designed to solve\n",
    "some specific sets of problems wrapped together in one code bundle so they can be imported and called by other code."
   ]
  },
  {
   "cell_type": "code",
   "execution_count": null,
   "metadata": {
    "colab": {},
    "colab_type": "code",
    "id": "p8g4YVY5R7Ue"
   },
   "outputs": [],
   "source": [
    "import requests\n",
    "# From now on we can refer to the `requests` module\n",
    "# by its name (it is saved as a variable!)"
   ]
  },
  {
   "cell_type": "markdown",
   "metadata": {
    "colab_type": "text",
    "id": "0FRVoz4jdWYv"
   },
   "source": [
    "How can we use it to get some data from an API?\n",
    "\n",
    "Let us decompose this problem into several steps."
   ]
  },
  {
   "cell_type": "code",
   "execution_count": null,
   "metadata": {
    "colab": {},
    "colab_type": "code",
    "id": "GOCUEfBGc0Fi"
   },
   "outputs": [],
   "source": [
    "# First define the base API url\n",
    "URL = \"https://en.wikipedia.org/w/api.php\"\n",
    "# Then define the query string parameters you want to pass with your requests\n",
    "# often called 'payload'\n",
    "payload = {\n",
    "    'action': 'query',\n",
    "    'list': 'projects',\n",
    "    'format': 'json'\n",
    "}\n",
    "# 'requests' package wants us to define payload as a dict\n",
    "# since this makes it easy to build GET requests dynamically\n",
    "# in a program"
   ]
  },
  {
   "cell_type": "code",
   "execution_count": null,
   "metadata": {
    "colab": {
     "base_uri": "https://localhost:8080/",
     "height": 35
    },
    "colab_type": "code",
    "id": "sC1g5TOQeqtP",
    "outputId": "3f45a357-7680-45a8-ad9b-4aa903c6f7ab"
   },
   "outputs": [],
   "source": [
    "# Now with the URL and the payload ready we can send a request\n",
    "# to the Wikipedia API to kindly ask for the list of projects\n",
    "#\n",
    "# We do this like this:\n",
    "response = requests.get(URL, params=payload)\n",
    "response"
   ]
  },
  {
   "cell_type": "code",
   "execution_count": null,
   "metadata": {
    "colab": {
     "base_uri": "https://localhost:8080/",
     "height": 35
    },
    "colab_type": "code",
    "id": "iwgmEk4ke4oI",
    "outputId": "f3af5744-7b8e-48c1-8ccc-9d4bfc55ce88"
   },
   "outputs": [],
   "source": [
    "# By a time-honored tradition of a countless generation\n",
    "# of computer programmers we call the result of a web request\n",
    "# a 'response'\n",
    "#\n",
    "# Now we would like to extract the actual data from it\n",
    "data = response.json()\n",
    "# What do we have in the response?\n",
    "data.keys()"
   ]
  },
  {
   "cell_type": "code",
   "execution_count": null,
   "metadata": {
    "colab": {
     "base_uri": "https://localhost:8080/",
     "height": 35
    },
    "colab_type": "code",
    "id": "h5anqKZEfQOh",
    "outputId": "ce8609f5-c977-429c-9243-049cab59c17d"
   },
   "outputs": [],
   "source": [
    "# Probably we want to focus on the 'query' part\n",
    "data['query'].keys()\n",
    "# And here are the projects"
   ]
  },
  {
   "cell_type": "code",
   "execution_count": null,
   "metadata": {
    "colab": {
     "base_uri": "https://localhost:8080/",
     "height": 35
    },
    "colab_type": "code",
    "id": "VSKp6E9SgJMV",
    "outputId": "d89b1798-d4a4-4ad1-bde8-8513a220817b"
   },
   "outputs": [],
   "source": [
    "# Now let us save the projects in a variable\n",
    "# to save us some typing\n",
    "projects = data['query']['projects']\n",
    "# Now we can easily count the projects\n",
    "len(projects)"
   ]
  },
  {
   "cell_type": "code",
   "execution_count": null,
   "metadata": {
    "colab": {
     "base_uri": "https://localhost:8080/",
     "height": 201
    },
    "colab_type": "code",
    "id": "IAFDoUWLgd07",
    "outputId": "754f7d6b-223f-4d4e-e952-5c32cb27f777"
   },
   "outputs": [],
   "source": [
    "# and see them if we like ...\n",
    "# ... but maybe not all of them at one\n",
    "# maybe just first ten\n",
    "projects[:10]"
   ]
  },
  {
   "cell_type": "code",
   "execution_count": null,
   "metadata": {
    "colab": {
     "base_uri": "https://localhost:8080/",
     "height": 201
    },
    "colab_type": "code",
    "id": "b0-ssAjvgk1a",
    "outputId": "9a0b9fca-b0e7-41d9-862e-ebc393a3cdcc",
    "scrolled": true
   },
   "outputs": [],
   "source": [
    "# and last ten\n",
    "projects[-10:]"
   ]
  },
  {
   "cell_type": "markdown",
   "metadata": {
    "colab_type": "text",
    "id": "u6z2pz5FgzPd"
   },
   "source": [
    "The point here is the fact that we loaded the data as a list of strings. These are objects and data types we know! So we can work with them in Python and compute anything we want!"
   ]
  }
 ],
 "metadata": {
  "colab": {
   "collapsed_sections": [],
   "name": "C6-webapi.ipynb",
   "provenance": []
  },
  "kernelspec": {
   "display_name": "Python 3",
   "language": "python",
   "name": "python3"
  },
  "language_info": {
   "codemirror_mode": {
    "name": "ipython",
    "version": 3
   },
   "file_extension": ".py",
   "mimetype": "text/x-python",
   "name": "python",
   "nbconvert_exporter": "python",
   "pygments_lexer": "ipython3",
   "version": "3.7.5"
  }
 },
 "nbformat": 4,
 "nbformat_minor": 1
}
