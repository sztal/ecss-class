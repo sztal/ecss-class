{
 "cells": [
  {
   "cell_type": "markdown",
   "metadata": {},
   "source": [
    "# Learn the Basics"
   ]
  },
  {
   "cell_type": "markdown",
   "metadata": {},
   "source": [
    "The main purpose of this notebook is to show you some basics of Python on examples you can test yourself. However, you need to remember that learning programming takes time, and there is no better teacher than practice. Ok, there is a better teacher it is called Google. For me (Mikołaj) it really works this way that I use Google and Stack Overflow all the time when I am writing some code. If you saw my Google search history you would be surprised how basic staff I google. So **do not be afraid to Google**.\n",
    "\n",
    "If you feel that this notebook is not enough, please try visiting [www.learnpython.org](https://www.learnpython.org/)"
   ]
  },
  {
   "cell_type": "markdown",
   "metadata": {},
   "source": [
    "## Types of Primitive Variables"
   ]
  },
  {
   "cell_type": "markdown",
   "metadata": {},
   "source": [
    "In the first Notebook, Szymon spent some time on explaining differences between variables types, therefore I am not going to go too much into details. Below you just have a list of four basic types of data in Python:\n",
    "\n",
    "* integer (int) - the name says it all. For example, $100,0,-15,221$;\n",
    "* floating points numbers (float) - similarly to integers the name says it all. However, please note that in Python and other programming languages in floats you **separate integer part from the decimal part with dot**. For example, $2.3,4.5,-1.4$;\n",
    "* boolean (bool) - a logical variable which unlike previous two takes only two values: `True` and `False`;\n",
    "* strings (str) - a sequence of characters between quotation marks, for example, $\"This\\ is\\ a\\ string\"$\n",
    "\n",
    "Before we move any further, let me introduce you to a function `type`. This is one of the most basic functions ever but at the same time a really useful one. It takes one argument and returns its type (pretty straightforward name). So let see how it works:"
   ]
  },
  {
   "cell_type": "code",
   "execution_count": null,
   "metadata": {},
   "outputs": [],
   "source": [
    "## These are dumb examples but let's see what happens when we check types of following things:\n",
    "## 3, true, \"This is a string\", 3.5\n",
    "\n",
    "type(-3)"
   ]
  },
  {
   "cell_type": "code",
   "execution_count": null,
   "metadata": {},
   "outputs": [],
   "source": [
    "type(3.5)"
   ]
  },
  {
   "cell_type": "code",
   "execution_count": null,
   "metadata": {},
   "outputs": [],
   "source": [
    "type(\"This is a string\")"
   ]
  },
  {
   "cell_type": "code",
   "execution_count": null,
   "metadata": {},
   "outputs": [],
   "source": [
    "type(True)"
   ]
  },
  {
   "cell_type": "markdown",
   "metadata": {},
   "source": [
    "**Exercise 0.** Knowing what you know right now please do the following:\n",
    "\n",
    "* write an integer so `type` returns `float`\n",
    "* write a boolean so `type` returns `str`\n",
    "* write a float so `type` returns `str`\n",
    "* write an integer so `type` returns `str`"
   ]
  },
  {
   "cell_type": "code",
   "execution_count": null,
   "metadata": {},
   "outputs": [],
   "source": [
    "## Exercise 0. An integer => A float"
   ]
  },
  {
   "cell_type": "code",
   "execution_count": null,
   "metadata": {},
   "outputs": [],
   "source": [
    "## Exercise 0. A boolean => A string"
   ]
  },
  {
   "cell_type": "code",
   "execution_count": null,
   "metadata": {},
   "outputs": [],
   "source": [
    "## Exercise 0. A float => A string"
   ]
  },
  {
   "cell_type": "code",
   "execution_count": null,
   "metadata": {},
   "outputs": [],
   "source": [
    "## Exercise 0. An integer => A string"
   ]
  },
  {
   "cell_type": "markdown",
   "metadata": {},
   "source": [
    "Before we move any further let's talk a bit about printing. Szymon showed you that you can assign a variable to a name, for example `name = \"Mikołaj\"`. It is a useful way of storing variables for future use. However, it is even more useful to know how to get it printed. There are two obvious ways:\n",
    "\n",
    "1. Call the variable by its name, for example `name`\n",
    "2. Use a function `print`, which takes the variable as an argument, for example `print(name)`\n",
    "\n",
    "Obviously, you can both assign and print not only strings but other types of variables as well. We use strings here just as an example."
   ]
  },
  {
   "cell_type": "code",
   "execution_count": null,
   "metadata": {},
   "outputs": [],
   "source": [
    "## Let's define two variables. What are their types?\n",
    "name = \"Mikołaj\"\n",
    "surname = 'Biesaga'"
   ]
  },
  {
   "cell_type": "code",
   "execution_count": null,
   "metadata": {},
   "outputs": [],
   "source": [
    "## Let's call them by their names. What happened?\n",
    "name\n",
    "surname"
   ]
  },
  {
   "cell_type": "code",
   "execution_count": null,
   "metadata": {},
   "outputs": [],
   "source": [
    "## Let's print them\n",
    "print(name)\n",
    "print(surname)"
   ]
  },
  {
   "cell_type": "code",
   "execution_count": null,
   "metadata": {},
   "outputs": [],
   "source": [
    "## Let's print them together\n",
    "print(name,surname)"
   ]
  },
  {
   "cell_type": "markdown",
   "metadata": {},
   "source": [
    "## Basic Math Operations"
   ]
  },
  {
   "cell_type": "markdown",
   "metadata": {},
   "source": [
    "Szymon told you that computers are a bit like big fat calculators. In some cases, they are much faster than humans, but if you ever tried to convince 9 years old to learn how to count instead of using calculators you know that to some extent you can count faster than computers. Anyhow, we are not going to repeat ourselves with a description of all possible operators, instead, below you have a list of main operators in Python:\n",
    "\n",
    "* Addition - `7 + 3`\n",
    "* Subtraction - `5 - 3`\n",
    "* Multiplication - `5 * 2`\n",
    "* Division - `6 / 3`\n",
    "* Raising to a power - `2 ** (1/2)`\n",
    "* Integer division - `5 // 2`\n",
    "* Modulo - `5 % 2`\n",
    "\n",
    "If you test these operations you probably will not be surprised. The only one which may surprise you a bit is division. It will always return a float and it will print an approximation of the result."
   ]
  },
  {
   "cell_type": "code",
   "execution_count": null,
   "metadata": {},
   "outputs": [],
   "source": [
    "## A curious case of division\n",
    "7 / 3"
   ]
  },
  {
   "cell_type": "code",
   "execution_count": null,
   "metadata": {},
   "outputs": [],
   "source": [
    "## Kabuum!\n",
    "7 / 3 * 3"
   ]
  },
  {
   "cell_type": "markdown",
   "metadata": {},
   "source": [
    "I would say that another basic operation you can do with variables is to compare them. However, you need to remember that no matter what types you are comparing you will always get a boolean type as a result. In Python like in normal life there are three main comparison operators:\n",
    "\n",
    "* `==` - it will test whether the variable on the left side is equal the variable on the right side, for example `3 == 4` \n",
    "* `!=` - it will test whether the variable on the left side is **not** equal the variable on the right side, for example `3 != 4`\n",
    "* `>` - it will test whether the variable on the left side is bigger than the variable on the right side, for example `3 > 4`\n",
    "\n",
    "Obviously, you can also use `>=` to test whether the variable on the left is higher or equal to the one on the right."
   ]
  },
  {
   "cell_type": "markdown",
   "metadata": {},
   "source": [
    "**Exercise 1.** Define the following variables for you and your imaginary friend (YIF):\n",
    "\n",
    "* name and surname as strings\n",
    "* age as an integer\n",
    "* number of pets as an integer\n",
    "* whether you are right-handed as boolean\n",
    "\n",
    "Using Python check whether the following statements are true for you and your friend:\n",
    "\n",
    "1. You and YIF have the same name\n",
    "2. Your surname is longer or equal to YIF\n",
    "3. YIF has more pets than you\n",
    "4. You and YIF are both left-handed\n",
    "5. YIF is 5 years older than you are\n",
    "\n",
    "Use the function `len` to get the lenght of the string."
   ]
  },
  {
   "cell_type": "code",
   "execution_count": null,
   "metadata": {},
   "outputs": [],
   "source": [
    "## Exercise 1. Define variables"
   ]
  },
  {
   "cell_type": "code",
   "execution_count": null,
   "metadata": {},
   "outputs": [],
   "source": [
    "## Exercise 1. Comparison time"
   ]
  },
  {
   "cell_type": "markdown",
   "metadata": {},
   "source": [
    "## Operations on strings"
   ]
  },
  {
   "cell_type": "markdown",
   "metadata": {},
   "source": [
    "Hopefully, that was relatively easy. Let's move now to basic operations on other types than integers and floats. Szymon covered strings, so you know that you can add them, and multiply a string by an integer, for example:"
   ]
  },
  {
   "cell_type": "code",
   "execution_count": null,
   "metadata": {},
   "outputs": [],
   "source": [
    "## String Addition\n",
    "'Alice and' + 'Bob' + 'have three kids.'"
   ]
  },
  {
   "cell_type": "code",
   "execution_count": null,
   "metadata": {},
   "outputs": [],
   "source": [
    "## String Multiplication\n",
    "'Alice' * -3"
   ]
  },
  {
   "cell_type": "markdown",
   "metadata": {},
   "source": [
    "But you can't really add anything else to strings. If you try adding an integer, float or boolean type you will get an error (try it if you do not believe me). So what to do you might ask. Let's discuss it in an example. Imagine for a moment that you have a function that returns the results of the IQ test. However, you do not really want to prepare the string with every single possible result, for example:\n",
    "\n",
    "* `\"Congratulations, your IQ is 0. We hope you are going to have a great day with this knowledge\"`\n",
    "* `\"Congratulations, your IQ is 1. We hope you are going to have a great day with this knowledge\"`\n",
    "* `\"Congratulations, your IQ is 2. We hope you are going to have a great day with this knowledge\"`\n",
    "\n",
    "What you would like to do is to print the same message changing only the result of the test. If you paid attention so far you should be able to do it yourself."
   ]
  },
  {
   "cell_type": "code",
   "execution_count": null,
   "metadata": {},
   "outputs": [],
   "source": [
    "## Let's assume that IQ machine returned following variables\n",
    "IQ = 25\n",
    "diagnoses = 'You are a moron!'"
   ]
  },
  {
   "cell_type": "code",
   "execution_count": null,
   "metadata": {},
   "outputs": [],
   "source": [
    "## The easiest way would be to just\n",
    "print(\"Congratulations, your IQ is\", IQ,\".\", diagnoses, \"We hope you are going to have a great day with this knowledge.\")"
   ]
  },
  {
   "cell_type": "markdown",
   "metadata": {},
   "source": [
    "You probably would be able to figure out this solution yourself. But it is not optimal cause it does not add anything to our string. It just prints five elements one after another: a string, an integer, a string, a string, and another string. \n",
    "\n",
    "There is also another problem with this solution - the space between the dot and the integer. Removing it is not that hard but makes everything too complicated. Therefore, there are better ways of printing and also storing as a string this kind of message. Actually, there are quite a few methods of doing it but we will focus just on two:\n",
    "\n",
    "* string interpolation\n",
    "* f string"
   ]
  },
  {
   "cell_type": "code",
   "execution_count": null,
   "metadata": {
    "scrolled": true
   },
   "outputs": [],
   "source": [
    "## String Interpolation\n",
    "test_results_int = \"Congratulations, your IQ is %d. %s We hope you are going to have a great day with this knowledge.\" % (IQ, diagnoses)\n",
    "print(test_results_int)\n",
    "print(type(test_results_int))"
   ]
  },
  {
   "cell_type": "markdown",
   "metadata": {},
   "source": [
    "So what happened here? In our string, we put two place holders and told Python that when it evaluates the string it needs to replace them. The important thing is that if we want to input any kind of digit we need to use `%d` and with strings `%s`."
   ]
  },
  {
   "cell_type": "code",
   "execution_count": null,
   "metadata": {},
   "outputs": [],
   "source": [
    "## f String. WORKS ONLY WITH Python 3.6 and above \n",
    "test_results_f = f\"Congratulations, your IQ is {IQ}. {diagnoses} We hope you are going to have a great day with this knowledge.\"\n",
    "(test_results_f == test_results_int)"
   ]
  },
  {
   "cell_type": "markdown",
   "metadata": {},
   "source": [
    "What happened here? We told python that when it evaluates a string it should format it by returning values of what was in curly brackets."
   ]
  },
  {
   "cell_type": "markdown",
   "metadata": {},
   "source": [
    "**Exercise 2**. Using one of the two methods listed above adjust the following story for you and your imaginary friend and save it as a variable story.\n",
    "\n",
    "`\"My name is Mikołaj and I have a truly amazing imaginary friend named Bożydar. Although it seems that we have known one another forever there is 6 years difference between us. We are friends and it is False that we are both right-handed\"`"
   ]
  },
  {
   "cell_type": "code",
   "execution_count": null,
   "metadata": {},
   "outputs": [],
   "source": [
    "## Exercise 2. Define story"
   ]
  },
  {
   "cell_type": "markdown",
   "metadata": {},
   "source": [
    "## Lists"
   ]
  },
  {
   "cell_type": "markdown",
   "metadata": {},
   "source": [
    "We have already talked a bit about lists. So, again I am not going to repeat what was already said. The thing I want to emphesised is the fact that in Python you start counting from $0$. **Therefore, the first element of the list under $0$ index.** If you have a list like this: `shopping_list = ['bananas', 'oranges', 'tomatos']`, to access the first item on the list you need to use index $0$ - `shopping_list[0] = 'bananas'`.\n",
    "\n",
    "In one list you can store variables of different types, for example `diverse_list = [True, 1, 'Warsaw', 2.3]`. If you do not believe me let's check it using type function."
   ]
  },
  {
   "cell_type": "code",
   "execution_count": null,
   "metadata": {},
   "outputs": [],
   "source": [
    "## Definition of diverse_list\n",
    "diverse_list = [True,\n",
    "                1,\n",
    "                'Warsaw',\n",
    "                2.3]"
   ]
  },
  {
   "cell_type": "code",
   "execution_count": null,
   "metadata": {},
   "outputs": [],
   "source": [
    "## Let's check the types of variables in a dumb way\n",
    "print(type(diverse_list[0]))\n",
    "print(type(diverse_list[1]))\n",
    "print(type(diverse_list[2]))\n",
    "print(type(diverse_list[3]))"
   ]
  },
  {
   "cell_type": "markdown",
   "metadata": {},
   "source": [
    "## For-loop"
   ]
  },
  {
   "cell_type": "markdown",
   "metadata": {},
   "source": [
    "There are plenty of ways of doing it in a better way than above. But here we will show you two. We will use a simple for-loop. The scheme of the for-loop is as simple as this:\n",
    "\n",
    "`for index in list:\n",
    "    do something\n",
    "`\n",
    "\n",
    "It is a really simple scheme. You just go step by step until the index reaches the end of the list and in each step you do something. So how it will work in our specific case? We want to go through the `diverse_list` and in every single step check the element type, right? The scheme is rather straightforward, but how you should translate it to Python?"
   ]
  },
  {
   "cell_type": "code",
   "execution_count": null,
   "metadata": {},
   "outputs": [],
   "source": [
    "## Iterate over elements\n",
    "for index in diverse_list:\n",
    "    print(type(index))"
   ]
  },
  {
   "cell_type": "code",
   "execution_count": null,
   "metadata": {},
   "outputs": [],
   "source": [
    "## Iterate over indices\n",
    "for index in range(len(diverse_list)):\n",
    "    print(type(diverse_list[index]))"
   ]
  },
  {
   "cell_type": "markdown",
   "metadata": {},
   "source": [
    "What is the difference because the printed results are exactly the same? The simple answer is that in the first case you have a list and in every step Python assigns an element to index variable. In the second case in every step Python assigns the index number to index variable. It might sound a bit complicated therefore the best way to understand the difference is to see it. Exercise 3 should help you.\n",
    "\n",
    "**Exercise 3**. We can actually see the difference by removing something from both of these loops. Please modify the loops in such a way that instead of getting the types of variables you will get the value of the index in every single step."
   ]
  },
  {
   "cell_type": "code",
   "execution_count": null,
   "metadata": {},
   "outputs": [],
   "source": [
    "## Exercise 3. Iterate over elements"
   ]
  },
  {
   "cell_type": "code",
   "execution_count": null,
   "metadata": {},
   "outputs": [],
   "source": [
    "## Exercise 3. Iterate over indecies"
   ]
  },
  {
   "cell_type": "markdown",
   "metadata": {},
   "source": [
    "## If"
   ]
  },
  {
   "cell_type": "markdown",
   "metadata": {},
   "source": [
    "Now please imagine that we want to have printed only integers and floats. Therefore we are going to still use the for-loop to go over the list but this time we will not print all the elements. In other words, the scheme what we want to do is as follows:\n",
    "`for index in list:\n",
    "    if index  equals integer or float:\n",
    "        print type of index\n",
    "`\n",
    "\n",
    "This does not sound like rocket science, does it? Translating it to Python is also not that difficult because it looks like this:"
   ]
  },
  {
   "cell_type": "code",
   "execution_count": null,
   "metadata": {},
   "outputs": [],
   "source": [
    "## The easiest way, but not the best way\n",
    "for index in diverse_list:\n",
    "    if type(index) == float:\n",
    "        print(type(index))\n",
    "    if type(index) == int:\n",
    "        print(type(index))"
   ]
  },
  {
   "cell_type": "code",
   "execution_count": null,
   "metadata": {},
   "outputs": [],
   "source": [
    "## The better way\n",
    "for index in diverse_list:\n",
    "    if type(index) == float or type(index) == int:\n",
    "        print(type(index))"
   ]
  },
  {
   "cell_type": "code",
   "execution_count": null,
   "metadata": {},
   "outputs": [],
   "source": [
    "## A different way\n",
    "for index in diverse_list:\n",
    "    if type(index) == float:\n",
    "        print(type(index))\n",
    "    else:\n",
    "        if type(index) == int:\n",
    "            print(type(index))"
   ]
  },
  {
   "cell_type": "code",
   "execution_count": null,
   "metadata": {},
   "outputs": [],
   "source": [
    "## A different way\n",
    "for index in diverse_list:\n",
    "    if type(index) == float:\n",
    "        print(type(index))\n",
    "    elif type(index) == int:\n",
    "        print(type(index))"
   ]
  },
  {
   "cell_type": "markdown",
   "metadata": {},
   "source": [
    "Obviously, you can also use a different approach iterating over indices or using any other idea, but we found the ones above the most comprehensive. \n",
    "\n",
    "**Exercise 4**. Please, imagine that you have an ordered list of names and you would like to get printed only the names of every third person. The names are as follows: Ada, Adamina, Adela, Adelajda, Adriana, Adrianna, Agata, Agnieszka, Aida, Alberta, and Albertyna. So what you need to do is:\n",
    "\n",
    "1. Create a list of names\n",
    "2. Create a for-loop over all elements\n",
    "3. Create an if statement which will evaluate whether it is a third element of the list\n",
    "4. Print the name\n",
    "\n",
    "*Hint*: You should iterate the list over indices."
   ]
  },
  {
   "cell_type": "code",
   "execution_count": null,
   "metadata": {},
   "outputs": [],
   "source": [
    "## Exercise 4. Define the list"
   ]
  },
  {
   "cell_type": "code",
   "execution_count": null,
   "metadata": {},
   "outputs": [],
   "source": [
    "## Exercise 4. Create a for-loop"
   ]
  },
  {
   "cell_type": "markdown",
   "metadata": {},
   "source": [
    "## Mappings"
   ]
  },
  {
   "cell_type": "markdown",
   "metadata": {},
   "source": [
    "We have already spent some time trying to understand what mappings vel dicts are, and how you can create them. Therefore, here you will have just a short reminder of examples. Let's come back for a while to our first example of a list - a shopping list. In the real world storing a shopping list as a list would be a bit pointless, cause you would not get the information about quantity (not in an obvious way). So a better strategy is to use mapping as a shopping list (yeah it might sound a bit counter-intuitive at first), for example:"
   ]
  },
  {
   "cell_type": "code",
   "execution_count": null,
   "metadata": {},
   "outputs": [],
   "source": [
    "## Define a shopping list\n",
    "shopping_list = {\"bananas\": 3,\n",
    "                 \"apples\": 0,\n",
    "                 \"kiwi\": 7\n",
    "                }\n",
    "shopping_list"
   ]
  },
  {
   "cell_type": "code",
   "execution_count": null,
   "metadata": {},
   "outputs": [],
   "source": [
    "## See all keys\n",
    "shopping_list.keys()"
   ]
  },
  {
   "cell_type": "code",
   "execution_count": null,
   "metadata": {},
   "outputs": [],
   "source": [
    "## List all the keys\n",
    "list(shopping_list)"
   ]
  },
  {
   "cell_type": "code",
   "execution_count": null,
   "metadata": {},
   "outputs": [],
   "source": [
    "## See all values\n",
    "shopping_list.values()"
   ]
  },
  {
   "cell_type": "code",
   "execution_count": null,
   "metadata": {},
   "outputs": [],
   "source": [
    "## List all the values\n",
    "list(shopping_list.values())"
   ]
  },
  {
   "cell_type": "code",
   "execution_count": null,
   "metadata": {},
   "outputs": [],
   "source": [
    "## Print keys and values of the mapping\n",
    "list(shopping_list.items())[0][0]"
   ]
  },
  {
   "cell_type": "code",
   "execution_count": null,
   "metadata": {},
   "outputs": [],
   "source": [
    "## Access specific value\n",
    "shopping_list['bananas']"
   ]
  },
  {
   "cell_type": "code",
   "execution_count": null,
   "metadata": {},
   "outputs": [],
   "source": [
    "## Add a value or an item\n",
    "shopping_list['melon'] = 5\n",
    "print(shopping_list)\n",
    "print(shopping_list['kiwi'])\n",
    "shopping_list['kiwi'] = 0\n",
    "print(shopping_list['kiwi'])"
   ]
  },
  {
   "cell_type": "code",
   "execution_count": null,
   "metadata": {},
   "outputs": [],
   "source": [
    "## Delete an item\n",
    "del shopping_list['melon']\n",
    "shopping_list"
   ]
  },
  {
   "cell_type": "code",
   "execution_count": null,
   "metadata": {},
   "outputs": [],
   "source": [
    "## Pop an item\n",
    "popped_value = shopping_list.pop('bananas')\n",
    "print(shopping_list)\n",
    "print(popped_value)"
   ]
  },
  {
   "cell_type": "markdown",
   "metadata": {},
   "source": [
    "**Exercise 5.** Create a mapping based on that story on Alice:\n",
    "\n",
    "`Alice is a 17 years old young lady. Although her main field of interest is physics (especially quantum physics and string theory), she also fancies sport. Her favorite physical activities are fishing and football.`"
   ]
  },
  {
   "cell_type": "code",
   "execution_count": null,
   "metadata": {},
   "outputs": [],
   "source": [
    "## Define the mapping"
   ]
  },
  {
   "cell_type": "markdown",
   "metadata": {},
   "source": [
    "## Iterate over mappings"
   ]
  },
  {
   "cell_type": "markdown",
   "metadata": {},
   "source": [
    "In the case of lists, interacting was relatively easy. Here, we use the same for-loop but in a bit different manner. We can actually iterate over elements only (there are ways of iterating over indexes but we will not need them). There are three ways of doing it:\n",
    "\n",
    "1. Iterate over keys\n",
    "2. Iterate over values\n",
    "3. Iterate over keys and values (tuplets)"
   ]
  },
  {
   "cell_type": "code",
   "execution_count": null,
   "metadata": {},
   "outputs": [],
   "source": [
    "## Iterate over keys\n",
    "for key in shopping_list:\n",
    "    print(key)"
   ]
  },
  {
   "cell_type": "code",
   "execution_count": null,
   "metadata": {},
   "outputs": [],
   "source": [
    "## Iterate over values\n",
    "for value in shopping_list.values():\n",
    "    print(value)"
   ]
  },
  {
   "cell_type": "code",
   "execution_count": null,
   "metadata": {},
   "outputs": [],
   "source": [
    "## Iterate over items\n",
    "for key, value in shopping_list.items():\n",
    "    print(key, value)"
   ]
  }
 ],
 "metadata": {
  "kernelspec": {
   "display_name": "Python 3",
   "language": "python",
   "name": "python3"
  },
  "language_info": {
   "codemirror_mode": {
    "name": "ipython",
    "version": 3
   },
   "file_extension": ".py",
   "mimetype": "text/x-python",
   "name": "python",
   "nbconvert_exporter": "python",
   "pygments_lexer": "ipython3",
   "version": "3.7.5"
  }
 },
 "nbformat": 4,
 "nbformat_minor": 2
}
