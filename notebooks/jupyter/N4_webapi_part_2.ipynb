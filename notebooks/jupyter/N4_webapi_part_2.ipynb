{
 "cells": [
  {
   "cell_type": "markdown",
   "metadata": {},
   "source": [
    "# Web APIs and HTTP requests: part II\n",
    "\n",
    "Brief reminder. Web API (_Application Programming Interface_) is a (often public or semi-public) web-based, programmable interface that allows third parties to communicate with some digital system in an organized and automated manner.\n",
    "\n",
    "Most importantly most of web API use the HTTP protocol to communicate with the external world. HTTP protocol is the standard communication protocol used everywhere around the World Wide Web (this is exactly the protocol that your browser uses to communicate with servers that host websites you use). By this virtue REST API are very universal and flexible as HTTP-based communication is supported by every serious programming language and/or operating system. Moreover, it makes it even possible to use REST APIs via a browser, which is very handy for testting.\n",
    "\n",
    "So in summary a web API is:\n",
    "\n",
    "* **Remote.** Users can access the resourcesfrom anywhere, provided they have an internet connection.\n",
    "* **Reliable.** The interface exposed to users is stable, which means does not change often in time and is largely independent from changes within the system on top of which it sits.\n",
    "* **Programmable.** API can be interacted with based on a predefined set of commands/methods/endpoints (an interface) in a way that can be expressed with a programming language.\n",
    "\n",
    "Moreover, perhaps one of the most important features of a web API is the fact that it is identified by a unique URL and IP number (exactly in the same way as any ordinary website). Every particular method/endpoint in the API can be interacted with by extending the base URL of the API with appropriate query parameters and/or subdirectories. For example:\n",
    "\n",
    "* https://en.wikipedia.org/w/api.php is the base URL of the Wikipedia API.\n",
    "* https://en.wikipedia.org/w/api.php?action=query&list=random&rnnamespace=0&rnlimit=2 is the URL that uses the `query` endpoint and the `list` method nested within it.\n",
    "\n",
    "Let us remind ourselves of the anatomy of the URL-based communication with web APIs.\n",
    "\n",
    "The base url `https://en.wikipedia.org/w/api.php` is a simple, standard URL. Nothing special about except for the fact that it points to the location at which the Wikipedia API lives. Now note that the `query` action is an extension of the base url of the following form:\n",
    "\n",
    "* `<BASE_URL> ? <QUERY STRING>`\n",
    "* Where query string is a sequence of key-value pairs of the following form `<key1>=<value1>&<key2>=<value2> ...`.\n",
    "\n",
    "The `?` sign separates the base URL from the query string part. And in our example the query params (key-value pairs) specify that we want the API to use the `query` endpoint and use it to execute the `list=random` method with the following arguments: `rnamespace=0&rnlimit=2`. The `query` endpoint and all its methods such as `list=random` are properly documented at: `https://en.wikipedia.org/w/api.php?action=help&modules=query` (note that this website is served also through an API query)."
   ]
  },
  {
   "cell_type": "markdown",
   "metadata": {},
   "source": [
    "# Working with Wikipedia API: part II\n",
    "\n",
    "The last time we extracted the list of Wikiprojects and counted them. This time we will try to do something a little bit more involved.\n",
    "\n",
    "1. We gonna take a random sample of 10 Wikipedia articles. There is an endpoint in the Wikipedia for doing just that. However, note because of the sampling each of you will get different results.\n",
    "2. The first step will give us only id numbers and title of the pages. We will use the to extract the full text of the pages via a different endpoint of the Wikipedia API.\n",
    "3. We will compute word length distributions of the pages. Reuse your code that you developed earlier for the final exercise from the notebook 3."
   ]
  },
  {
   "cell_type": "markdown",
   "metadata": {},
   "source": [
    "## Step 1.\n",
    "\n",
    "First we have to sample 10 random Wikipedia articles. This should not be too hard, since we have a special method for this, so it should be just one simple API call.\n",
    "\n",
    "The method we are looking for is `list=random` and it is defined within the `query` endpoint (`action=query`). We can read more about it [here](https://en.wikipedia.org/w/api.php?action=help&modules=query%2Brandom).\n",
    "\n",
    "**HINT.** Remeber that you can view results of your queries directly in the browser."
   ]
  },
  {
   "cell_type": "markdown",
   "metadata": {},
   "source": [
    "Quick read of the docpage and we can decide that we need only two query parameters:\n",
    "\n",
    "1. `rnamespace=0` (which limits the results to the namespace `0` which is the part of Wikipedia where actual encyclopedic articles live).\n",
    "2. `rnlimit=10` (because we want to extract only 10 random articles)."
   ]
  },
  {
   "cell_type": "code",
   "execution_count": 25,
   "metadata": {},
   "outputs": [],
   "source": [
    "# The above considerations lead us the to the following payload\n",
    "# we will want to attach to out query URL.\n",
    "\n",
    "payload = {\n",
    "    'action': 'query',  # since we want to use the `query` endpoint\n",
    "    'list': 'random',   # because we want to use the `random` method\n",
    "    # But we also need to add arguments for the `random` method\n",
    "    'rnnamespace': 0,\n",
    "    'rnlimit': 10,\n",
    "    'format': 'json'    # we need to add it so the data can be read by Python\n",
    "}"
   ]
  },
  {
   "cell_type": "code",
   "execution_count": 26,
   "metadata": {},
   "outputs": [
    {
     "data": {
      "text/plain": [
       "<Response [200]>"
      ]
     },
     "execution_count": 26,
     "metadata": {},
     "output_type": "execute_result"
    }
   ],
   "source": [
    "# Now we are ready to make the GET request\n",
    "# But first we need to import the requests package\n",
    "import requests as rq\n",
    "# And define our base URL\n",
    "BASE_URL = \"https://en.wikipedia.org/w/api.php\"\n",
    "\n",
    "response = rq.get(BASE_URL, params=payload)\n",
    "response"
   ]
  },
  {
   "cell_type": "code",
   "execution_count": 27,
   "metadata": {},
   "outputs": [
    {
     "data": {
      "text/plain": [
       "{'batchcomplete': '',\n",
       " 'continue': {'rncontinue': '0.842030615149|0.842032552876|22861096|0',\n",
       "  'continue': '-||'},\n",
       " 'query': {'random': [{'id': 52666268, 'ns': 0, 'title': 'Henchir-Ezzguidane'},\n",
       "   {'id': 2592649, 'ns': 0, 'title': 'Herbert Murerwa'},\n",
       "   {'id': 1190077, 'ns': 0, 'title': 'One-time password'},\n",
       "   {'id': 42914672, 'ns': 0, 'title': 'Sierra Leone Brewery Limited'},\n",
       "   {'id': 45338291, 'ns': 0, 'title': 'Gustaf Nielsen'},\n",
       "   {'id': 25707018, 'ns': 0, 'title': 'Concision'},\n",
       "   {'id': 29319967, 'ns': 0, 'title': 'Cheese ripening'},\n",
       "   {'id': 2583375, 'ns': 0, 'title': 'DATAR'},\n",
       "   {'id': 18445956, 'ns': 0, 'title': 'Asnoun'},\n",
       "   {'id': 40190989, 'ns': 0, 'title': 'Guillermo de la Dehesa'}]}}"
      ]
     },
     "execution_count": 27,
     "metadata": {},
     "output_type": "execute_result"
    }
   ],
   "source": [
    "# We see that our response is OK (HTTP response code 200 means 'OK')\n",
    "# So we can extract the data from the response object with `.json()`\n",
    "# method defined on it.\n",
    "data = response.json()\n",
    "data"
   ]
  },
  {
   "cell_type": "code",
   "execution_count": 28,
   "metadata": {},
   "outputs": [
    {
     "data": {
      "text/plain": [
       "[52666268,\n",
       " 2592649,\n",
       " 1190077,\n",
       " 42914672,\n",
       " 45338291,\n",
       " 25707018,\n",
       " 29319967,\n",
       " 2583375,\n",
       " 18445956,\n",
       " 40190989]"
      ]
     },
     "execution_count": 28,
     "metadata": {},
     "output_type": "execute_result"
    }
   ],
   "source": [
    "# The obtained a relatively simple dictionary.\n",
    "# We can extract the list of page ids as follows:\n",
    "page_ids = [ page['id'] for page in data['query']['random'] ]\n",
    "page_ids"
   ]
  },
  {
   "cell_type": "markdown",
   "metadata": {},
   "source": [
    "## Step 2.\n",
    "Now we have a nice list of page ids, so we can use it to extract content of the pages using a different method defined on the `query` endpoint.\n",
    "\n",
    "We will use a so-called _cirrus doc_ endpoint. _Cirrus_ is a system for organizing and storing text documents used by Wikipedia. It does not really matter to us. What matters is the fact that an endpoint like this exists and that it has a particular format.\n",
    "\n",
    "As we said _cirrus doc_ is a method on the `query` endpoint and we can call it with `prop=cirrusdoc`. However, to obtain any data we have also to pass a list of page ids in a proper format.\n",
    "\n",
    "Remember every piece of data that we provide through URL parameters (query string) is always treated as a string. Thanks to this every API can use some convention for defining lists of values. The Wikipedia API uses `|` as the separator, so it uses the following convention:\n",
    "\n",
    "* `<item 1>|<item 2>| ... |<item n>`"
   ]
  },
  {
   "cell_type": "code",
   "execution_count": 29,
   "metadata": {},
   "outputs": [
    {
     "data": {
      "text/plain": [
       "'52666268|2592649|1190077|42914672|45338291|25707018|29319967|2583375|18445956|40190989'"
      ]
     },
     "execution_count": 29,
     "metadata": {},
     "output_type": "execute_result"
    }
   ],
   "source": [
    "# Thus we have to join our page ids to form a single string\n",
    "page_ids_string = \"|\".join(str(p) for p in page_ids)\n",
    "page_ids_string"
   ]
  },
  {
   "cell_type": "code",
   "execution_count": 31,
   "metadata": {},
   "outputs": [
    {
     "data": {
      "text/plain": [
       "{'action': 'query',\n",
       " 'prop': 'cirrusdoc',\n",
       " 'pageids': '52666268|2592649|1190077|42914672|45338291|25707018|29319967|2583375|18445956|40190989',\n",
       " 'format': 'json'}"
      ]
     },
     "execution_count": 31,
     "metadata": {},
     "output_type": "execute_result"
    }
   ],
   "source": [
    "# Now, the above considerations already enforce a particular form of a payload\n",
    "# that we will have to attach to the request URL.\n",
    "\n",
    "payload = {\n",
    "    'action': 'query',\n",
    "    'prop': 'cirrusdoc',\n",
    "    'pageids': page_ids_string,\n",
    "    'format': 'json'\n",
    "}\n",
    "payload"
   ]
  },
  {
   "cell_type": "code",
   "execution_count": 32,
   "metadata": {},
   "outputs": [
    {
     "data": {
      "text/plain": [
       "<Response [200]>"
      ]
     },
     "execution_count": 32,
     "metadata": {},
     "output_type": "execute_result"
    }
   ],
   "source": [
    "# And now we are ready to make a request\n",
    "response = rq.get(BASE_URL, params=payload)\n",
    "response"
   ]
  },
  {
   "cell_type": "code",
   "execution_count": 38,
   "metadata": {},
   "outputs": [
    {
     "data": {
      "text/plain": [
       "dict_keys(['batchcomplete', 'query'])"
      ]
     },
     "execution_count": 38,
     "metadata": {},
     "output_type": "execute_result"
    }
   ],
   "source": [
    "# And parse the response to a json dictionary\n",
    "data = response.json()\n",
    "# We can look and the top-level keys of the dict\n",
    "data.keys()"
   ]
  },
  {
   "cell_type": "code",
   "execution_count": 40,
   "metadata": {},
   "outputs": [
    {
     "data": {
      "text/plain": [
       "dict_keys(['pages'])"
      ]
     },
     "execution_count": 40,
     "metadata": {},
     "output_type": "execute_result"
    }
   ],
   "source": [
    "# We should be interested in the query field, since judging by the name\n",
    "# it should contain the results of our query\n",
    "data['query'].keys()"
   ]
  },
  {
   "cell_type": "code",
   "execution_count": 41,
   "metadata": {},
   "outputs": [
    {
     "data": {
      "text/plain": [
       "dict_keys(['1190077', '2583375', '2592649', '18445956', '25707018', '29319967', '40190989', '42914672', '45338291', '52666268'])"
      ]
     },
     "execution_count": 41,
     "metadata": {},
     "output_type": "execute_result"
    }
   ],
   "source": [
    "# Great, now we have only one key on the lower level, so it has to store the data\n",
    "pages = data['query']['pages']\n",
    "pages.keys()"
   ]
  },
  {
   "cell_type": "code",
   "execution_count": 43,
   "metadata": {},
   "outputs": [
    {
     "data": {
      "text/plain": [
       "dict_keys(['pageid', 'ns', 'title', 'cirrusdoc'])"
      ]
     },
     "execution_count": 43,
     "metadata": {},
     "output_type": "execute_result"
    }
   ],
   "source": [
    "# We see that the pages dictionary store all the pages we requested identified with their ids\n",
    "# Let us look at the inner keys of sub-dict with data of a single page\n",
    "key = list(pages)[0]\n",
    "pages[key].keys()"
   ]
  },
  {
   "cell_type": "code",
   "execution_count": 48,
   "metadata": {},
   "outputs": [
    {
     "data": {
      "text/plain": [
       "list"
      ]
     },
     "execution_count": 48,
     "metadata": {},
     "output_type": "execute_result"
    }
   ],
   "source": [
    "# It seems that the main data is stored under the `cirrusdoc` key.\n",
    "type(pages[key]['cirrusdoc'])"
   ]
  },
  {
   "cell_type": "code",
   "execution_count": 50,
   "metadata": {},
   "outputs": [
    {
     "data": {
      "text/plain": [
       "dict_keys(['index', 'type', 'id', 'version', 'source'])"
      ]
     },
     "execution_count": 50,
     "metadata": {},
     "output_type": "execute_result"
    }
   ],
   "source": [
    "# Hmm, the cirrusdoc property is a list.\n",
    "# So we have to extract data from it.\n",
    "pages[key]['cirrusdoc'][0].keys()"
   ]
  },
  {
   "cell_type": "code",
   "execution_count": 51,
   "metadata": {},
   "outputs": [
    {
     "data": {
      "text/plain": [
       "dict_keys(['template', 'content_model', 'wiki', 'auxiliary_text', 'language', 'title', 'text', 'defaultsort', 'timestamp', 'redirect', 'wikibase_item', 'heading', 'source_text', 'version_type', 'coordinates', 'version', 'external_link', 'namespace_text', 'namespace', 'text_bytes', 'incoming_links', 'category', 'outgoing_link', 'popularity_score', 'create_timestamp', 'opening_text'])"
      ]
     },
     "execution_count": 51,
     "metadata": {},
     "output_type": "execute_result"
    }
   ],
   "source": [
    "# Okay, finally we see the source key, that must store the actual article content\n",
    "pages[key]['cirrusdoc'][0]['source'].keys()"
   ]
  },
  {
   "cell_type": "code",
   "execution_count": 53,
   "metadata": {},
   "outputs": [
    {
     "data": {
      "text/plain": [
       "'A one-time password (OTP), also known as one-time pin or dynamic password, is a password that is valid for only one login session or transaction, on a computer system or other digital device. OTPs avoid a number of shortcomings that are associated with traditional (static) password-based authentication; a number of implementations also incorporate two-factor authentication by ensuring that the one-time password requires access to something a person has (such as a small keyring fob device with th'"
      ]
     },
     "execution_count": 53,
     "metadata": {},
     "output_type": "execute_result"
    }
   ],
   "source": [
    "# Bingo!! We see the `text` field. It contains the article text.\n",
    "# This is exactly what we want to extract.\n",
    "pages[key]['cirrusdoc'][0]['source']['text'][:500]"
   ]
  },
  {
   "cell_type": "markdown",
   "metadata": {},
   "source": [
    "We examined the anatomy of the response of the _cirrus doc_ method in the Wikipedia API. So now we understand it and we can use this new knowledge to automatically extract content of all the articles."
   ]
  },
  {
   "cell_type": "code",
   "execution_count": 57,
   "metadata": {},
   "outputs": [
    {
     "data": {
      "text/plain": [
       "10"
      ]
     },
     "execution_count": 57,
     "metadata": {},
     "output_type": "execute_result"
    }
   ],
   "source": [
    "articles = [ p['cirrusdoc'][0]['source']['text'] for p in pages.values() ]\n",
    "len(articles)"
   ]
  },
  {
   "cell_type": "markdown",
   "metadata": {},
   "source": [
    "Great!!! We finally extracted the data we want. Now we can apply our method for computing word length distributions to this data."
   ]
  },
  {
   "cell_type": "code",
   "execution_count": null,
   "metadata": {},
   "outputs": [],
   "source": []
  },
  {
   "cell_type": "markdown",
   "metadata": {},
   "source": [
    "# Homework (deadline: 04.12.2019)"
   ]
  },
  {
   "cell_type": "markdown",
   "metadata": {},
   "source": [
    "## HW1 | Exercise 1.\n",
    "\n",
    "Read about the `pageviews` method (`prop=pageviews`) in the `query endpoint` ([docpage](https://en.wikipedia.org/w/api.php?action=help&modules=query%2Bpageviews)). Use this method to extract page views data for the pages from the previous exercise (if you want you can sample 10 new pages with the `list=random` method) for the last 60 days.\n",
    "\n",
    "The results will be broken down by single days, so you have to aggregate the results (sum) so they give the total page views count for the entire period of 60 days.\n",
    "\n",
    "Remember that to select pages by page ids you pass `pageids=<id 1>|<id 2>|...|<id n>`"
   ]
  },
  {
   "cell_type": "markdown",
   "metadata": {},
   "source": []
  },
  {
   "cell_type": "markdown",
   "metadata": {},
   "source": [
    "## HW 1 | Exercise 2.\n",
    "\n",
    "(this is a pure Python exercise for practice; not related to web APIs)\n",
    "\n",
    "Write a function that takes one argument `n` and prints a simple pyramid of the following form:\n",
    "\n",
    "$n = 3$\n",
    "```\n",
    "  *\n",
    " ***\n",
    "*****\n",
    "```\n",
    "\n",
    "$n = 5$\n",
    "```\n",
    "    *\n",
    "   ***\n",
    "  *****\n",
    " *******\n",
    "*********\n",
    "```\n",
    "\n",
    "Remeber that we define function in Python like this.\n",
    "\n",
    "```python\n",
    "def add_two_numbers(x, y):\n",
    "    return x + y\n",
    "```\n",
    "\n",
    "And that you can print from functions like this.\n",
    "\n",
    "```python\n",
    "def print_a_string_from_function(string):\n",
    "    print(string)\n",
    "```\n",
    "\n",
    "Note that to print something you do not use the `return` statement."
   ]
  },
  {
   "cell_type": "code",
   "execution_count": 58,
   "metadata": {},
   "outputs": [],
   "source": [
    "def print_pyramid(n):\n",
    "    pass # Remove this and fill the function with proper code"
   ]
  },
  {
   "cell_type": "markdown",
   "metadata": {},
   "source": [
    "Example usage:\n",
    "\n",
    "```python\n",
    "print_pyramid(4)\n",
    "```\n",
    "\n",
    "Should print:\n",
    "```\n",
    "   *\n",
    "  ***\n",
    " *****\n",
    "*******\n",
    "```"
   ]
  },
  {
   "cell_type": "code",
   "execution_count": null,
   "metadata": {},
   "outputs": [],
   "source": []
  }
 ],
 "metadata": {
  "kernelspec": {
   "display_name": "Python 3",
   "language": "python",
   "name": "python3"
  },
  "language_info": {
   "codemirror_mode": {
    "name": "ipython",
    "version": 3
   },
   "file_extension": ".py",
   "mimetype": "text/x-python",
   "name": "python",
   "nbconvert_exporter": "python",
   "pygments_lexer": "ipython3",
   "version": "3.7.3"
  }
 },
 "nbformat": 4,
 "nbformat_minor": 2
}
