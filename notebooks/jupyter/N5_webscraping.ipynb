{
 "cells": [
  {
   "cell_type": "code",
   "execution_count": 56,
   "metadata": {},
   "outputs": [],
   "source": [
    "import re\n",
    "import requests\n",
    "from requests.exceptions import RequestException\n",
    "from contextlib import closing\n",
    "from bs4 import BeautifulSoup"
   ]
  },
  {
   "cell_type": "code",
   "execution_count": 57,
   "metadata": {},
   "outputs": [],
   "source": [
    "response = requests.get(\"https://wikileaks.org/fishrot/\")\n",
    "html = BeautifulSoup(response.content, 'html.parser')"
   ]
  },
  {
   "cell_type": "code",
   "execution_count": 58,
   "metadata": {},
   "outputs": [
    {
     "name": "stdout",
     "output_type": "stream",
     "text": [
      "Today WikiLeaks releases documents pertaining to the Fishrot case that have come to light as a result of investigation into bribes, money laundering and tax evasion. These investigations have been launched by several institutions across Norway, Iceland and Namibia as a result of WikiLeaks' Fishrot publication earlier this month.\n",
      "The first document details internal exchanges between staff at DNB, Norway’s largest bank, from April 2018 to 2019, discussing how to respond to AML flagging (anti-money laundering) from Bank of New York Mellon. Specifically it relates to payments from the international fishing company Samherji to JPC Ship Management (Cyprus), a crew management company supplying services to Samherji.\n",
      "The second document outlines how DNB (the Norwegian bank) carried out a detailed assessment in 2017 of JPC Ship Management in accordance with KYC principles (Know Your Customer) and did not seem to find anything wrong, despite being classified as a high-risk customer. Another company associated with Samherji financial transactions, Cape Cod FS (Marshall Islands), however was evaluated using the very same principles and its accounts were closed as the bank could not determine who the owner was.\n",
      "The third document shows how DNB finally decided to terminate its accounts with JPC Ship Management only after receiving  AML flagging from Bank of New York Mellon:\n",
      "“Conclusion:\n",
      "The client is not in need of Norwegian account or within LCI strategy. The client does not have AML Policy and there is considerable risk related to transactions to Russia and Ukraine. The necessary resources to manage the sanction risk will be too high and the client has already disrespected instruction regarding resend once. Our recommendation is offboarding the client. “\n",
      "Also published today is a spreadsheet overview of transactions to and from various bank accounts of companies owned by and linked to the fishing company Samherji. They include  Cape Cod FS (a Marshall Island company), JPC Ship Management (a Cypriot company) and Tundavala (a firm in Dubai set up primarily for Namibian entities to receive bribes from Samherji). The Tundavala payments continued at least until January 2019.\n",
      "This spreadsheet is not an original, however it is derived from the original spreadsheet which cannot be published for reasons of source protection. The original spreadsheet has been verified by WikiLeaks and investigative journalists of their media partners.\n",
      "Fishrot Files - Part 3 will be released soon with the addition to the searchable database.\n",
      "Al-Jazeera Investigates will air its film “Anatomy of a Bribe” based on the Fishrot Files on December 1st.\n",
      "Media Partners\n",
      "Icelandic National Broadcas\n",
      "ting Service (RUV) Investigative program Kveikur\n",
      "Stundin, newspaper\n",
      "The Namibian, newspaper\n",
      "Norwegian Broadcasting Corporation, (NRK)\n",
      "Al-Jazeera, Investigates\n"
     ]
    }
   ],
   "source": [
    "for p in html.select('div.content div.release div.leak-content p'):\n",
    "    text = p.text\n",
    "    if text:\n",
    "        print(text)"
   ]
  },
  {
   "cell_type": "code",
   "execution_count": 59,
   "metadata": {},
   "outputs": [],
   "source": [
    "response = requests.get(\"https://scholar.google.com/scholar?hl=en&as_sdt=0%2C5&q=computational+social+science&btnG=\")\n",
    "html = BeautifulSoup(response.content, 'html.parser')"
   ]
  },
  {
   "cell_type": "code",
   "execution_count": 60,
   "metadata": {},
   "outputs": [
    {
     "name": "stdout",
     "output_type": "stream",
     "text": [
      "Computational social science\n",
      "Social science. Computational social science.\n",
      "Manifesto of computational social science\n",
      "Computational social science: Making the links\n",
      "Introduction to computational social science\n",
      "Understanding the paradigm shift to computational social science in the presence of big data\n",
      "Making computational social science effective: epistemology, methodology, and technology\n",
      "The theory of social functions: challenges for computational social science and multi-agent learning\n",
      "Big data, digital media, and computational social science: Possibilities and perils\n",
      "Computational social science\n"
     ]
    }
   ],
   "source": [
    "item = None\n",
    "for item in html.select('div#gs_res_ccl_mid div.gs_ri .gs_rt a'):\n",
    "    text = item.text\n",
    "    if text:\n",
    "        print(text)"
   ]
  },
  {
   "cell_type": "code",
   "execution_count": null,
   "metadata": {},
   "outputs": [],
   "source": []
  }
 ],
 "metadata": {
  "kernelspec": {
   "display_name": "Python 3",
   "language": "python",
   "name": "python3"
  },
  "language_info": {
   "codemirror_mode": {
    "name": "ipython",
    "version": 3
   },
   "file_extension": ".py",
   "mimetype": "text/x-python",
   "name": "python",
   "nbconvert_exporter": "python",
   "pygments_lexer": "ipython3",
   "version": "3.7.3"
  }
 },
 "nbformat": 4,
 "nbformat_minor": 2
}
