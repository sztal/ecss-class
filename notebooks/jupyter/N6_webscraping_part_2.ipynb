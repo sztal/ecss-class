{
 "cells": [
  {
   "cell_type": "markdown",
   "metadata": {
    "colab_type": "text",
    "id": "eTOIurG83iLW"
   },
   "source": [
    "# Read and Write files\n",
    "At this point, you all proved (hopefully) in the homework that you know how to access a Wikipedia API. Moreover, using the code from the last class or today's exercise you should be able to webscrap a simple webpage like WikiLeaks or Google Scholar search. Now, the question arises what to do next with the data you acquired? You have all the data stored in the variable in the Notebook, but probably you would like to write it out to your local machine. Once we are done with saving the data we will show you how to load the data from your local machine.\n",
    "\n",
    "## Write the data\n",
    "Let's start with a really simple example. Imagine, that for some strange reasons we assigned the whole article from WikiLeaks text on fishrot in a variable text. The code below does just that."
   ]
  },
  {
   "cell_type": "code",
   "execution_count": null,
   "metadata": {
    "colab": {},
    "colab_type": "code",
    "id": "uHpvqFvb3YUO"
   },
   "outputs": [],
   "source": [
    "## import packages\n",
    "import requests\n",
    "from bs4 import BeautifulSoup \n",
    "\n",
    "## get the response\n",
    "response = requests.get('https://wikileaks.org/fishrot/')"
   ]
  },
  {
   "cell_type": "code",
   "execution_count": null,
   "metadata": {
    "colab": {
     "base_uri": "https://localhost:8080/",
     "height": 34
    },
    "colab_type": "code",
    "id": "nExx3VjT7WD5",
    "outputId": "165bef5a-cff6-44a4-8bec-271ef173ef44"
   },
   "outputs": [],
   "source": [
    "## convert to Beautiful Soup object\n",
    "html = BeautifulSoup(response.content, 'html.parser')\n",
    "\n",
    "## create a list to store all the paragraphs\n",
    "text_list = []\n",
    "\n",
    "## populate the list with content of paragraphs\n",
    "for p in html.select('div.leak-content'):\n",
    "    ## extract text and remove unnecessary white spaces\n",
    "    text_list.append(p.text.strip())\n",
    "\n",
    "## create a long string with the content of paragraphs. Each paragraph will start from the new line sign.\n",
    "text = \"\\n\".join(text_list)"
   ]
  },
  {
   "cell_type": "code",
   "execution_count": null,
   "metadata": {},
   "outputs": [],
   "source": [
    "print(text)"
   ]
  },
  {
   "cell_type": "markdown",
   "metadata": {
    "colab_type": "text",
    "id": "w4-s4Xb192d6"
   },
   "source": [
    "So having the above code in the Notebook is a cool thing. Most likely it will work next time we want to use it. However, it would be a bit pointless executing the whole code every time we want to analyze the text about Fishrot. So obviously one way of doing it would be printing it first and then copying and pasting it to the desired file. Although it is not the most effective way of doing it, let's think for a moment what this process would look like. What does your friend do when they want to write to a file a text from the Internet? They usually start the following way:\n",
    "1. Copy the text\n",
    "2. Open a file\n",
    "3. Paste the text\n",
    "4. Save the file\n",
    "\n",
    "So in Python, you do a very similar thing. Let's say we want to save this `text` variable:"
   ]
  },
  {
   "cell_type": "code",
   "execution_count": null,
   "metadata": {
    "colab": {
     "base_uri": "https://localhost:8080/",
     "height": 34
    },
    "colab_type": "code",
    "id": "a80YMHo_7hwm",
    "outputId": "75aaff17-1bde-406d-e347-6588eb8d4171"
   },
   "outputs": [],
   "source": [
    "## We start with opening the file in write mode\n",
    "file = open('fishrot.txt', mode='w')\n",
    "\n",
    "## Then we have to put there something. So we use method write on the file.\n",
    "file.write(text)\n",
    "\n",
    "## And at last we close the file\n",
    "file.close()"
   ]
  },
  {
   "cell_type": "markdown",
   "metadata": {
    "colab_type": "text",
    "id": "Gdqp_369Bi8j"
   },
   "source": [
    "Actually, the last part is important although in Colab it might be a bit different (I mean it might not raise an error). In normal Python, if you do not close the file it will explode. Not really, but you might end up either with an error when you want to load the file or not really inserting there anything. However, there is a much smarter and more popular way of writing something out to a file."
   ]
  },
  {
   "cell_type": "code",
   "execution_count": null,
   "metadata": {
    "colab": {},
    "colab_type": "code",
    "id": "JZ7258G88bJh"
   },
   "outputs": [],
   "source": [
    "with open('fishrot.txt', 'w') as file:\n",
    "  file.write(text)"
   ]
  },
  {
   "cell_type": "markdown",
   "metadata": {
    "colab_type": "text",
    "id": "1wcZ5vbSE3dW"
   },
   "source": [
    "What happened above? Using `with` statement we told Python to open a file called `fishrot.txt` in write mode and assign it to a temporary variable `file`. Then we wrote the variable text to `fishrot.txt` and closed the file. So the good thing about using `with` statement is that when you exit the indent the file is safely closed.\n",
    "\n",
    "Ok, so far so good. But our problem is still not done yet cause we moved our data from the notebook to our workspace. And we still do not have it in the place we can access it easily. If we want to download it to our local machine we have two fairly easy options. We can either just click on the file and press download or download it from Python. To do it from Python we just load an additional package and use a simple function called download."
   ]
  },
  {
   "cell_type": "code",
   "execution_count": null,
   "metadata": {
    "colab": {},
    "colab_type": "code",
    "id": "7IwnO9mFEfTq"
   },
   "outputs": [],
   "source": [
    "## We need to load package files to do it in Python\n",
    "from google.colab import files\n",
    "## And then just use function download\n",
    "files.download('fishrot.txt') "
   ]
  },
  {
   "cell_type": "markdown",
   "metadata": {
    "colab_type": "text",
    "id": "EWwQks5bMl81"
   },
   "source": [
    "Ok, but what happens if we want to add something to our file? Would it be enough to just download another article and save it in the same file? Actually, there are two answers to that question. Yes and No. If we write something to our file before closing it then yes we would append it to the end of the file. However, if we close the file and open it again then we would overwrite the information which was there. So are we doomed and we can't append anything to the files? Obviously not. Function `open` allows us to open a file, put the cursor at the end of the file and write something there. We just need to use mode `a` instead of `w`."
   ]
  },
  {
   "cell_type": "markdown",
   "metadata": {
    "colab_type": "text",
    "id": "FNw7fE6dRwwY"
   },
   "source": [
    "**Exercise 1.** Download two articles from WikiLeaks and save the content into one file called `wikileaks.txt`."
   ]
  },
  {
   "cell_type": "code",
   "execution_count": null,
   "metadata": {
    "colab": {},
    "colab_type": "code",
    "id": "KojIn-ydOnHW"
   },
   "outputs": [],
   "source": [
    "## Exercise 1.\n",
    "\n",
    "## import packages\n",
    "import requests\n",
    "from bs4 import BeautifulSoup \n",
    "\n",
    "## links from which you need to download the content\n",
    "links = ['https://wikileaks.org/popeorders/',\n",
    "         'https://wikileaks.org/fishrot/']\n"
   ]
  },
  {
   "cell_type": "markdown",
   "metadata": {
    "colab_type": "text",
    "id": "42TtHff1SdpS"
   },
   "source": [
    "## Read a file\n",
    "Now everyone should have the file called `wikileaks.txt` saved safely in their workspace. But how to load it now to Python? Yes, you guess well it is a similar process to writing it out. First, we need to open the file and later read its output. We are going to use again use function `open` but this time in read mode - `r`."
   ]
  },
  {
   "cell_type": "code",
   "execution_count": null,
   "metadata": {
    "colab": {},
    "colab_type": "code",
    "id": "d-AZ2qQqQhdR"
   },
   "outputs": [],
   "source": [
    "with open('wikileaks.txt', 'r') as file:\n",
    "  text = file.read()"
   ]
  },
  {
   "cell_type": "code",
   "execution_count": null,
   "metadata": {},
   "outputs": [],
   "source": [
    "print(text)"
   ]
  },
  {
   "cell_type": "markdown",
   "metadata": {
    "colab_type": "text",
    "id": "6fuaath6ZqqN"
   },
   "source": [
    "Yeah, this is as simple as this. However, before we move to write more interesting data then just simple strings let's first see whether we can read the text not as a string but as a list. So you remember that we added the end of the line sign (`\\n`) after every single paragraph, right? Let's try to read the file line after line instead of just reading it as a long string."
   ]
  },
  {
   "cell_type": "code",
   "execution_count": null,
   "metadata": {
    "colab": {},
    "colab_type": "code",
    "id": "YRmZ0QjRXF7w"
   },
   "outputs": [],
   "source": [
    "with open('wikileaks.txt', 'r') as file:\n",
    "  lines = file.readlines()\n",
    "\n",
    "lines"
   ]
  },
  {
   "cell_type": "markdown",
   "metadata": {
    "colab_type": "text",
    "id": "FwEEAR5qcK7b"
   },
   "source": [
    "This is again very good but what about uploading a file from your local machine. Again, you can either use a graphical interface or do it in Python. Therefore, you can either press Upload or just type the following code."
   ]
  },
  {
   "cell_type": "code",
   "execution_count": null,
   "metadata": {
    "colab": {
     "base_uri": "https://localhost:8080/",
     "height": 106,
     "resources": {
      "http://localhost:8080/nbextensions/google.colab/files.js": {
       "data": "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",
       "headers": [
        [
         "content-type",
         "application/javascript"
        ]
       ],
       "ok": true,
       "status": 200,
       "status_text": ""
      }
     }
    },
    "colab_type": "code",
    "id": "ALD8gUhMZPag",
    "outputId": "367a1c21-2e9d-41f0-aa07-36353c470cb9"
   },
   "outputs": [],
   "source": [
    "## We need to load package files to do it in Python\n",
    "from google.colab import files\n",
    "## And then just use function download\n",
    "files.upload()"
   ]
  },
  {
   "cell_type": "markdown",
   "metadata": {},
   "source": [
    "## JSON"
   ]
  },
  {
   "cell_type": "markdown",
   "metadata": {},
   "source": [
    "Let's now move to something more interesting it means writing and loading a `json` format files. You must remember that `json` looks much alike `mapping` vel `dicitonary`, right? So let's first create a dictionary so we have some real data. To make it as simple as possible we will scrap the data again from WikiLeaks but this time we will assign the title and the content of the article to json."
   ]
  },
  {
   "cell_type": "code",
   "execution_count": null,
   "metadata": {},
   "outputs": [],
   "source": [
    "## import packages\n",
    "import requests\n",
    "from bs4 import BeautifulSoup \n",
    "\n",
    "## assign url to url variable\n",
    "url = 'https://wikileaks.org/dealmaker/Al-Yousef/'\n",
    "\n",
    "## get the response\n",
    "response = requests.get(url)\n",
    "\n",
    "## convert to Beautiful Soup object\n",
    "html = BeautifulSoup(response.content, 'html.parser')\n",
    "\n",
    "## create an empty mapping\n",
    "article = {}\n",
    "\n",
    "## create a pair key-item with title\n",
    "article['title'] = html.select_one('div.release h1').text\n",
    "\n",
    "## extract the content\n",
    "text_list = []\n",
    "for p in html.select('div.leak-content'):\n",
    "    text.append(p.text.strip())\n",
    "\n",
    "## convert the list to a string\n",
    "text = \"\\n\".join(text)\n",
    "    \n",
    "## create a pair key-item with content\n",
    "article['content'] = text\n",
    "\n",
    "article"
   ]
  },
  {
   "cell_type": "markdown",
   "metadata": {},
   "source": [
    "Actually, before we move any further. Let's do a short exercise.\n",
    "\n",
    "**Exercise 2.** You have a mapping article that contains the title of the article and its content. Please add another field with the data."
   ]
  },
  {
   "cell_type": "code",
   "execution_count": null,
   "metadata": {},
   "outputs": [],
   "source": [
    "## Exercise 2\n",
    "\n"
   ]
  },
  {
   "cell_type": "markdown",
   "metadata": {},
   "source": [
    "Ok, so how to write it out to a `json` file? It is not that hard. It follows a similar pattern as writing out a text file but there is a small trick you would like to learn for sure. However, let's first start with the simplest possible way. It means writing the `article` mapping to a `json` file. We just need a package `json` and function `dumps` from this package. This function will convert a dictionary to a string."
   ]
  },
  {
   "cell_type": "code",
   "execution_count": null,
   "metadata": {},
   "outputs": [],
   "source": [
    "## import json package\n",
    "import json\n",
    "\n",
    "## write the dictionary to the file\n",
    "with open('article.json', 'w') as file:\n",
    "    file.write(json.dumps(article))"
   ]
  },
  {
   "cell_type": "markdown",
   "metadata": {},
   "source": [
    "Loading a `json` is also quite simple. You just need to first read it, and then use function `loads` to convert a `string` to a `dict` type."
   ]
  },
  {
   "cell_type": "code",
   "execution_count": null,
   "metadata": {},
   "outputs": [],
   "source": [
    "## import json package\n",
    "import json\n",
    "\n",
    "## read the dictionary from the file\n",
    "with open('article.json', 'r') as file:\n",
    "    ## read the string\n",
    "    article_str = file.read()\n",
    "    ## convert string to dictionary and asssign it to article_dict\n",
    "    article_dict = json.loads(article_str)"
   ]
  },
  {
   "cell_type": "markdown",
   "metadata": {},
   "source": [
    "This is all very nice but let's imagine that we have a list of dictionaries and we want to save it first to a `json line` (`jl`) file and then read it from there. First, let's see what we mean by that. Let's, first create an artificial list of dictionaries in which every single mapping will have the same fields."
   ]
  },
  {
   "cell_type": "code",
   "execution_count": null,
   "metadata": {},
   "outputs": [],
   "source": [
    "## create a mapping\n",
    "artificial_list = [\n",
    "    {\"name\":\"Alice\",\n",
    "     \"age\":17,\n",
    "     \"interests\":[\n",
    "        {\"name\":\"physics\",\n",
    "         \"fields\":[\"quantumphysics\",\"stringtheory\"]\n",
    "        },\n",
    "        {\"name\":\"sport\",\n",
    "         \"fields\":[\"fishing\",\"football\"]\n",
    "        }]\n",
    "    },\n",
    "    {\"name\":\"Bob\",\n",
    "     \"age\":15,\n",
    "     \"interests\":[\n",
    "        {\"name\":\"sport\",\n",
    "         \"fields\":[\"football\"]\n",
    "        }]\n",
    "    }\n",
    "]"
   ]
  },
  {
   "cell_type": "markdown",
   "metadata": {},
   "source": [
    "So what we will do is just write every single dictionary in separate lines in our file. So in the file, we will recreate our list. It is a very useful approach especially when you read or save longer files with many lines. "
   ]
  },
  {
   "cell_type": "code",
   "execution_count": null,
   "metadata": {},
   "outputs": [],
   "source": [
    "## import json package\n",
    "import json\n",
    "\n",
    "## write the the list of dictionaries to a json line file\n",
    "with open('bob_and_alice.jl', 'w') as file:\n",
    "    ## iterate over elelments of the list\n",
    "    for line in artificial_list:\n",
    "      ## write every dictionary to a line\n",
    "      file.write(json.dumps(line)+'\\n')  \n",
    "    "
   ]
  },
  {
   "cell_type": "markdown",
   "metadata": {},
   "source": [
    "Reading this kind of file is a bit more complicated but not that hard. Again, we will need the `json` package. This time, however, we will not use the `read` function but `readlines` because we want to create a list. Every line read as a string, we will transform into a mapping."
   ]
  },
  {
   "cell_type": "code",
   "execution_count": null,
   "metadata": {},
   "outputs": [],
   "source": [
    "## import json package\n",
    "import json\n",
    "\n",
    "## create a list\n",
    "bob_and_alice = []\n",
    "\n",
    "## read every line of the file and append it to the list\n",
    "with open('bob_and_alice.jl', 'r') as file:\n",
    "    lines = file.readlines()\n",
    "    for line in lines:\n",
    "        bob_and_alice.append(json.loads(line))"
   ]
  }
 ],
 "metadata": {
  "colab": {
   "name": "Untitled0.ipynb",
   "provenance": []
  },
  "kernelspec": {
   "display_name": "Python 3",
   "language": "python",
   "name": "python3"
  },
  "language_info": {
   "codemirror_mode": {
    "name": "ipython",
    "version": 3
   },
   "file_extension": ".py",
   "mimetype": "text/x-python",
   "name": "python",
   "nbconvert_exporter": "python",
   "pygments_lexer": "ipython3",
   "version": "3.7.5"
  }
 },
 "nbformat": 4,
 "nbformat_minor": 4
}
